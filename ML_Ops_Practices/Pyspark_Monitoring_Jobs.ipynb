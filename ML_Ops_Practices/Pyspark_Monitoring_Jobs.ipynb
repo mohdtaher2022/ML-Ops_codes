{
  "nbformat": 4,
  "nbformat_minor": 0,
  "metadata": {
    "colab": {
      "provenance": []
    },
    "kernelspec": {
      "name": "python3",
      "display_name": "Python 3"
    },
    "language_info": {
      "name": "python"
    },
    "gpuClass": "standard"
  },
  "cells": [
    {
      "cell_type": "markdown",
      "source": [
        "## Synopsis\n",
        "\n",
        "The following Notebook contains an orchestration on monitoring Jobs in ML Lifecycle, being one of the core principle of ML-Ops. The Notebook provides a an overview on setting monitoring mechanism on ML pipeline code. Monitoring plays essential role in self-governing ML model to re-train itself.\n",
        "Kindly Note: This Notebook is continuation to [Pipeline Notebook](https://) \n",
        "\n",
        "\n",
        "### Dataset\n",
        "Dataset used in below example has been cloned from Kaggle platform, [link](https://www.kaggle.com/datasets/kamilpytlak/personal-key-indicators-of-heart-disease) \n",
        "Description: 2020 annual CDC survey data of 400k adults related to their health status, with context to having a heart disease. (Additional Information can be extracted from Kaggle Link).\n",
        "\n",
        "Scope of Notebook:\n",
        "\n",
        "1. **Monitoring**: It covers sub modules of Monitoring like:\n",
        "* Model Drift: Decay of Model performance in production environment, observed from new monitoring data. \n",
        "* Data Drift: Deviation of feature distrbution between production data (trained) to  new validation (Monitoring Data)  \n",
        "* Feature score: Change of relationship between categorical varaibles and Continous variables. \n",
        "\n",
        "\n",
        "Limitations:\n",
        "\n",
        "1. The aim of exercise covers the monitoring piece in isolation, which can be consumed by plugging it into respective project. These codes are not linked to any project pipelines and are controlled through external Git. \n",
        "\n",
        "\n",
        "#### Data Versioning: (Hugging Face)\n",
        "`https://huggingface.co/datasets/mozay22/heart_disease/tree/main` \n",
        "\n",
        "#### Code Repo: (GitHub)\n",
        "`https://github.com/mohdtaher2022/ML_Ops_Practices` \n",
        "\n",
        "\n",
        "#### Pre-Requisites\n",
        "\n",
        "Python, SQL, PySpark, ML Lifecycle, Statistics\n",
        "\n",
        "Kindly Note: The Notebook has been executed on a remote server, change in  path referencing might be required in host server. Python packages are printed below to observe similar results executed in exercise."
      ],
      "metadata": {
        "id": "UKHP3396MDW6"
      }
    },
    {
      "cell_type": "markdown",
      "source": [
        "### Setting up Spark Infrastructure and Pre-requisite Libraries  "
      ],
      "metadata": {
        "id": "jiBSZadDntrH"
      }
    },
    {
      "cell_type": "code",
      "source": [
        "%%capture\n",
        "!apt-get install openjdk-8-jdk"
      ],
      "metadata": {
        "id": "YzctfiA5sgra",
        "colab": {
          "base_uri": "https://localhost:8080/",
          "height": 17
        },
        "outputId": "617ed340-794b-4d38-911e-54cc3a999107"
      },
      "execution_count": 2,
      "outputs": [
        {
          "output_type": "display_data",
          "data": {
            "text/plain": [
              "<IPython.core.display.Javascript object>"
            ],
            "application/javascript": [
              "google.colab.output.setIframeHeight(0, true, {maxHeight: 5000})"
            ]
          },
          "metadata": {}
        }
      ]
    },
    {
      "cell_type": "code",
      "source": [
        "import os\n",
        "#Set the JAVA_HOME env variable\n",
        "os.environ[\"JAVA_HOME\"]=\"/usr/lib/jvm/java-8-openjdk-amd64\""
      ],
      "metadata": {
        "id": "U0J29tkrq0V_",
        "colab": {
          "base_uri": "https://localhost:8080/",
          "height": 17
        },
        "outputId": "d291057e-2d39-4f39-d163-dfaacfba91ef"
      },
      "execution_count": 3,
      "outputs": [
        {
          "output_type": "display_data",
          "data": {
            "text/plain": [
              "<IPython.core.display.Javascript object>"
            ],
            "application/javascript": [
              "google.colab.output.setIframeHeight(0, true, {maxHeight: 5000})"
            ]
          },
          "metadata": {}
        }
      ]
    },
    {
      "cell_type": "code",
      "source": [
        "%%capture\n",
        "!echo $JAVA_HOME\n",
        "!pip install pyspark==3.0.0\n",
        "!pip install -q findspark\n",
        "!pip install datasets"
      ],
      "metadata": {
        "id": "nY9tjzXZqc7L",
        "colab": {
          "base_uri": "https://localhost:8080/",
          "height": 17
        },
        "outputId": "d0881a08-5a01-4e56-dc68-5825584b917c"
      },
      "execution_count": 4,
      "outputs": [
        {
          "output_type": "display_data",
          "data": {
            "text/plain": [
              "<IPython.core.display.Javascript object>"
            ],
            "application/javascript": [
              "google.colab.output.setIframeHeight(0, true, {maxHeight: 5000})"
            ]
          },
          "metadata": {}
        }
      ]
    },
    {
      "cell_type": "code",
      "source": [
        "# Avoids scroll-in-the-scroll in the entire Notebook\n",
        "from IPython.display import Javascript\n",
        "def resize_colab_cell():\n",
        "  display(Javascript('google.colab.output.setIframeHeight(0, true, {maxHeight: 5000})'))\n",
        "get_ipython().events.register('pre_run_cell', resize_colab_cell)"
      ],
      "metadata": {
        "id": "MKyHZcXOa9JB"
      },
      "execution_count": 1,
      "outputs": []
    },
    {
      "cell_type": "markdown",
      "source": [
        "### Dowloading Dataset"
      ],
      "metadata": {
        "id": "s_-tH14qNecq"
      }
    },
    {
      "cell_type": "code",
      "source": [
        "!git lfs install\n",
        "!rm -rf heart_disease\n",
        "!git clone https://huggingface.co/datasets/mozay22/heart_disease"
      ],
      "metadata": {
        "colab": {
          "base_uri": "https://localhost:8080/",
          "height": 183
        },
        "id": "ZLlnee6nL_fs",
        "outputId": "e9051f60-75e7-4d4f-c160-cc15a1fafb62"
      },
      "execution_count": 5,
      "outputs": [
        {
          "output_type": "display_data",
          "data": {
            "text/plain": [
              "<IPython.core.display.Javascript object>"
            ],
            "application/javascript": [
              "google.colab.output.setIframeHeight(0, true, {maxHeight: 5000})"
            ]
          },
          "metadata": {}
        },
        {
          "output_type": "stream",
          "name": "stdout",
          "text": [
            "Error: Failed to call git rev-parse --git-dir --show-toplevel: \"fatal: not a git repository (or any of the parent directories): .git\\n\"\n",
            "Git LFS initialized.\n",
            "Cloning into 'heart_disease'...\n",
            "remote: Enumerating objects: 30, done.\u001b[K\n",
            "remote: Counting objects: 100% (30/30), done.\u001b[K\n",
            "remote: Compressing objects: 100% (28/28), done.\u001b[K\n",
            "remote: Total 30 (delta 10), reused 0 (delta 0), pack-reused 0\u001b[K\n",
            "Unpacking objects: 100% (30/30), done.\n",
            "Filtering content: 100% (4/4), 29.13 MiB | 12.66 MiB/s, done.\n"
          ]
        }
      ]
    },
    {
      "cell_type": "code",
      "source": [
        "os.environ['dir'] = os.getcwd()  ; os.environ['repo'] = 'heart_disease' ;  \n",
        "os.environ['file_1'] = 'test_df.zip'; os.environ['file_2'] = 'validation_df.zip' ;\n",
        "os.environ['repo_2'] = 'ML_Ops_Practices' ; os.environ['file_3'] = 'Models/saved_models_1.zip' ; "
      ],
      "metadata": {
        "id": "k6lNn53UAg4p",
        "colab": {
          "base_uri": "https://localhost:8080/",
          "height": 17
        },
        "outputId": "4cb25e27-8887-49c5-da8e-f2cc25d1ec59"
      },
      "execution_count": 6,
      "outputs": [
        {
          "output_type": "display_data",
          "data": {
            "text/plain": [
              "<IPython.core.display.Javascript object>"
            ],
            "application/javascript": [
              "google.colab.output.setIframeHeight(0, true, {maxHeight: 5000})"
            ]
          },
          "metadata": {}
        }
      ]
    },
    {
      "cell_type": "code",
      "source": [
        "%%capture\n",
        "!unzip $dir/$repo/$file_2 -d output/\n",
        "!unzip $dir/$repo/$file_1 -d output/"
      ],
      "metadata": {
        "id": "BCjNJhYeAO8d",
        "colab": {
          "base_uri": "https://localhost:8080/",
          "height": 17
        },
        "outputId": "0c16c552-5f84-4a7b-9892-7ab93a07c2b0"
      },
      "execution_count": 7,
      "outputs": [
        {
          "output_type": "display_data",
          "data": {
            "text/plain": [
              "<IPython.core.display.Javascript object>"
            ],
            "application/javascript": [
              "google.colab.output.setIframeHeight(0, true, {maxHeight: 5000})"
            ]
          },
          "metadata": {}
        }
      ]
    },
    {
      "cell_type": "markdown",
      "source": [
        "#### Importing Libraries"
      ],
      "metadata": {
        "id": "_L73Afcg6q8s"
      }
    },
    {
      "cell_type": "code",
      "source": [
        "# 3. Start Spark Session\n",
        "import findspark\n",
        "findspark.init()\n",
        "\n",
        "#import the necessary dependencies\n",
        "import sys\n",
        "import os\n",
        "import operator\n",
        "import json\n",
        "\n",
        "# Importing Specific Dataset of Heart Disease\n",
        "from datasets import load_dataset\n",
        "\n",
        "\n",
        "# data wrangling\n",
        "import numpy as np\n",
        "import pandas as pd\n",
        "import pyspark\n",
        "from pyspark import SparkContext, SparkConf\n",
        "from pyspark.sql import SQLContext\n",
        "import pyspark.sql.types  as st\n",
        "import pyspark.sql.functions  as sf\n",
        "from pyspark.sql.functions import rand \n",
        "from pyspark.sql.window import Window\n",
        "from pyspark.sql import SparkSession\n",
        "from pyspark.sql import SparkSession, types as T, functions as F\n",
        "from pyspark.sql.functions import udf\n",
        "pd.options.display.html.table_schema = True\n",
        "\n",
        "\n",
        "# machine learning\n",
        "from pyspark.ml import Pipeline\n",
        "from pyspark.ml.pipeline import Transformer\n",
        "from pyspark.ml.classification import RandomForestClassifier, RandomForestClassificationModel \\\n",
        ", GBTClassifier , GBTClassificationModel, LogisticRegression, LogisticRegressionModel\n",
        "from pyspark.ml.feature import IndexToString, StringIndexer, VectorIndexer\n",
        "from pyspark.ml.evaluation import MulticlassClassificationEvaluator, BinaryClassificationEvaluator\n",
        "from pyspark.mllib.evaluation import MulticlassMetrics ,BinaryClassificationMetrics\n",
        "from pyspark.ml.feature import VectorAssembler\n",
        "from pyspark.ml.tuning import ParamGridBuilder, CrossValidator\n",
        "from pyspark.ml.stat import ChiSquareTest\n",
        "\n",
        "\n",
        "# Stats Modules\n",
        "# Stats libs\n",
        "import scipy\n",
        "import statsmodels.api as sm\n",
        "from statsmodels.formula.api import ols\n",
        "\n",
        "# KS Test\n",
        "from scipy import stats\n",
        "\n",
        "# Sklearn Model\n",
        "from sklearn.metrics import accuracy_score, classification_report, precision_score, recall_score, roc_auc_score\n",
        "from sklearn.metrics import *\n",
        "\n",
        "# Ignore Warnings\n",
        "import warnings\n",
        "warnings.filterwarnings('ignore')\n",
        "\n",
        "# misc\n",
        "import math\n",
        "from operator import add\n",
        "from functools import reduce\n",
        "from datetime import datetime\n",
        "import operator\n",
        "import re\n",
        "import random\n",
        "\n",
        "# Dropping the display of Scientific Notations.\n",
        "# for pandas \n",
        "pd.set_option('display.float_format', lambda x: '%.3f' % x)\n",
        "# for Numpys\n",
        "np.set_printoptions(suppress=True,formatter={'float_kind':'{:16.3f}'.format}, linewidth=130)"
      ],
      "metadata": {
        "id": "JKNb99NtJhr-",
        "colab": {
          "base_uri": "https://localhost:8080/",
          "height": 17
        },
        "outputId": "714ddfa3-8243-41f2-a38c-8ac7023ad97c"
      },
      "execution_count": 8,
      "outputs": [
        {
          "output_type": "display_data",
          "data": {
            "text/plain": [
              "<IPython.core.display.Javascript object>"
            ],
            "application/javascript": [
              "google.colab.output.setIframeHeight(0, true, {maxHeight: 5000})"
            ]
          },
          "metadata": {}
        }
      ]
    },
    {
      "cell_type": "markdown",
      "source": [
        "#### Loading Dataset"
      ],
      "metadata": {
        "id": "cD5vR7WW60Te"
      }
    },
    {
      "cell_type": "code",
      "source": [
        "%%time\n",
        "# Building App using Spark Session\n",
        "spark = SparkSession.builder \\\n",
        "    .master('local[*]') \\\n",
        "    .config(\"spark.driver.memory\", \"8g\") \\\n",
        "    .appName('my-cool-app') \\\n",
        "    .getOrCreate()\n",
        "sc=spark.sparkContext\n",
        "spark.conf.set(\"spark.sql.shuffle.partitions\", \"5\")\n",
        "\n",
        "# To read from Local File\n",
        "load_path = os.path.join(os.getcwd(),\"/content/output/content/test_df.parquet\")\n",
        "load_path_val = os.path.join(os.getcwd(),\"/content/output/content/validation_df.parquet\")\n",
        "\n",
        "test_ = spark.read.parquet(load_path) # we had transformed the test data in previous excercise\n",
        "val_ = spark.read.parquet(load_path_val) # New Validation Data (Monitoring Data) \n",
        "test_.show(3); val_.show(3);"
      ],
      "metadata": {
        "colab": {
          "base_uri": "https://localhost:8080/"
        },
        "id": "jWTSSyDA72Ih",
        "outputId": "e1994cb7-f1bb-412e-cac3-a9ae55cacbe6"
      },
      "execution_count": null,
      "outputs": [
        {
          "output_type": "stream",
          "name": "stdout",
          "text": [
            "+-----+--------------+------------+---------+----------------+-----------+-------------------+----------+---------------+----------+--------------------+----------+-----------------+--------------+-----------------------------+----------------------------------+----------+----------+-------------+----------+---------------------+--------------------+-----------------------+\n",
            "|  BMI|PhysicalHealth|MentalHealth|SleepTime|HeartDisease_Yes|Smoking_Yes|AlcoholDrinking_Yes|Stroke_Yes|DiffWalking_Yes|Sex_Female|PhysicalActivity_Yes|Asthma_Yes|KidneyDisease_Yes|SkinCancer_Yes|Diabetic_Yes_during_pregnancy|Race_American_IndianAlaskan_Native|Race_Asian|Race_Black|Race_Hispanic|Race_White|GenHealth_transformed|Diabetic_transformed|AgeCategory_transformed|\n",
            "+-----+--------------+------------+---------+----------------+-----------+-------------------+----------+---------------+----------+--------------------+----------+-----------------+--------------+-----------------------------+----------------------------------+----------+----------+-------------+----------+---------------------+--------------------+-----------------------+\n",
            "|23.73|           0.0|         0.0|      7.0|               0|          0|                  0|         0|              0|         0|                   1|         0|                0|             0|                            0|                                 0|         0|         0|            0|         1|                  4.5|                 0.0|                   70.0|\n",
            "|27.81|           1.0|         0.0|      5.0|               0|          0|                  0|         0|              0|         1|                   1|         0|                0|             0|                            0|                                 0|         0|         0|            0|         0|                  4.5|                 0.0|                   30.0|\n",
            "|27.44|           0.0|         5.0|      6.0|               0|          0|                  0|         0|              0|         1|                   1|         0|                0|             0|                            0|                                 0|         0|         0|            0|         1|                  4.5|                 0.0|                   50.0|\n",
            "+-----+--------------+------------+---------+----------------+-----------+-------------------+----------+---------------+----------+--------------------+----------+-----------------+--------------+-----------------------------+----------------------------------+----------+----------+-------------+----------+---------------------+--------------------+-----------------------+\n",
            "only showing top 3 rows\n",
            "\n",
            "+------------+-----+-------+---------------+------+--------------+------------+-----------+------+-----------+-----+--------+----------------+---------+---------+------+-------------+----------+------------+\n",
            "|HeartDisease|  BMI|Smoking|AlcoholDrinking|Stroke|PhysicalHealth|MentalHealth|DiffWalking|   Sex|AgeCategory| Race|Diabetic|PhysicalActivity|GenHealth|SleepTime|Asthma|KidneyDisease|SkinCancer|capture_date|\n",
            "+------------+-----+-------+---------------+------+--------------+------------+-----------+------+-----------+-----+--------+----------------+---------+---------+------+-------------+----------+------------+\n",
            "|          No|29.76|     No|             No|    No|           0.0|         2.0|         No|Female|      30-34|White|      No|             Yes|Very good|      7.0|    No|           No|        No|  2021-04-01|\n",
            "|          No| 27.8|     No|             No|    No|           0.0|         0.0|         No|Female|      55-59|White|      No|             Yes|Very good|      8.0|    No|           No|       Yes|  2021-04-01|\n",
            "|          No|29.54|     No|            Yes|    No|           0.0|         0.0|         No|Female|      50-54|White|     Yes|             Yes|     Good|      6.0|    No|           No|        No|  2021-04-01|\n",
            "+------------+-----+-------+---------------+------+--------------+------------+-----------+------+-----------+-----+--------+----------------+---------+---------+------+-------------+----------+------------+\n",
            "only showing top 3 rows\n",
            "\n",
            "CPU times: user 174 ms, sys: 35.7 ms, total: 210 ms\n",
            "Wall time: 23.3 s\n"
          ]
        }
      ]
    },
    {
      "cell_type": "markdown",
      "source": [
        "### Loading Codes from Git. "
      ],
      "metadata": {
        "id": "YY4U7GcFoqxc"
      }
    },
    {
      "cell_type": "code",
      "source": [
        "!rm -rf ML_Ops_Practices\n",
        "!git clone https://github.com/mohdtaher2022/ML_Ops_Practices.git"
      ],
      "metadata": {
        "colab": {
          "base_uri": "https://localhost:8080/"
        },
        "id": "70VrWW_JoqgU",
        "outputId": "588f0b74-6fd0-4e2d-dcb8-8e284612e3bd"
      },
      "execution_count": null,
      "outputs": [
        {
          "output_type": "stream",
          "name": "stdout",
          "text": [
            "Cloning into 'ML_Ops_Practices'...\n",
            "remote: Enumerating objects: 251, done.\u001b[K\n",
            "remote: Counting objects:   3% (1/33)\u001b[K\rremote: Counting objects:   6% (2/33)\u001b[K\rremote: Counting objects:   9% (3/33)\u001b[K\rremote: Counting objects:  12% (4/33)\u001b[K\rremote: Counting objects:  15% (5/33)\u001b[K\rremote: Counting objects:  18% (6/33)\u001b[K\rremote: Counting objects:  21% (7/33)\u001b[K\rremote: Counting objects:  24% (8/33)\u001b[K\rremote: Counting objects:  27% (9/33)\u001b[K\rremote: Counting objects:  30% (10/33)\u001b[K\rremote: Counting objects:  33% (11/33)\u001b[K\rremote: Counting objects:  36% (12/33)\u001b[K\rremote: Counting objects:  39% (13/33)\u001b[K\rremote: Counting objects:  42% (14/33)\u001b[K\rremote: Counting objects:  45% (15/33)\u001b[K\rremote: Counting objects:  48% (16/33)\u001b[K\rremote: Counting objects:  51% (17/33)\u001b[K\rremote: Counting objects:  54% (18/33)\u001b[K\rremote: Counting objects:  57% (19/33)\u001b[K\rremote: Counting objects:  60% (20/33)\u001b[K\rremote: Counting objects:  63% (21/33)\u001b[K\rremote: Counting objects:  66% (22/33)\u001b[K\rremote: Counting objects:  69% (23/33)\u001b[K\rremote: Counting objects:  72% (24/33)\u001b[K\rremote: Counting objects:  75% (25/33)\u001b[K\rremote: Counting objects:  78% (26/33)\u001b[K\rremote: Counting objects:  81% (27/33)\u001b[K\rremote: Counting objects:  84% (28/33)\u001b[K\rremote: Counting objects:  87% (29/33)\u001b[K\rremote: Counting objects:  90% (30/33)\u001b[K\rremote: Counting objects:  93% (31/33)\u001b[K\rremote: Counting objects:  96% (32/33)\u001b[K\rremote: Counting objects: 100% (33/33)\u001b[K\rremote: Counting objects: 100% (33/33), done.\u001b[K\n",
            "remote: Compressing objects: 100% (33/33), done.\u001b[K\n",
            "remote: Total 251 (delta 10), reused 0 (delta 0), pack-reused 218\u001b[K\n",
            "Receiving objects: 100% (251/251), 22.23 MiB | 30.11 MiB/s, done.\n",
            "Resolving deltas: 100% (79/79), done.\n"
          ]
        }
      ]
    },
    {
      "cell_type": "markdown",
      "source": [
        "### Loading Modules from Git."
      ],
      "metadata": {
        "id": "6Kx1wRMEzrsi"
      }
    },
    {
      "cell_type": "code",
      "source": [
        "# Functions\n",
        "helper_func = open(os.path.join(os.getcwd(),'ML_Ops_Practices/Utilities/Functions/helper_functions.py')).read()\n",
        "pipeline_func = open(os.path.join(os.getcwd(),'ML_Ops_Practices/Utilities/Functions/pipeline_func.py')).read()\n",
        "retrain_n_validation = open(os.path.join(os.getcwd(),'ML_Ops_Practices/Utilities/Functions/retrain_n_validation.py')).read()\n",
        "# Configs\n",
        "feature_eng_configs = open(os.path.join(os.getcwd(),'ML_Ops_Practices/Utilities/Configs/feature_eng_config.py')).read()\n",
        "model_params = open(os.path.join(os.getcwd(),'ML_Ops_Practices/Utilities/Configs/model_params.py')).read()\n",
        "# Variables\n",
        "variables = open(os.path.join(os.getcwd(),'ML_Ops_Practices/Utilities/Variables/env_var.py')).read()\n",
        "\n",
        "# Variables\n",
        "exec(variables) ;\n",
        "# Functions\n",
        "exec(helper_func) ; exec(pipeline_func); exec(retrain_n_validation);  \n",
        "# Configs\n",
        "exec(feature_eng_configs) ; exec(model_params) ; "
      ],
      "metadata": {
        "id": "8TKSaZLszt3o"
      },
      "execution_count": null,
      "outputs": []
    },
    {
      "cell_type": "markdown",
      "source": [
        "#### Loading Model Artifacts"
      ],
      "metadata": {
        "id": "37uXDhSZU3ue"
      }
    },
    {
      "cell_type": "code",
      "source": [
        "# Loading model Artifacts\n",
        "# Threshold \n",
        "train_artifacts_loc = os.path.join(os.getcwd(), 'ML_Ops_Practices/Model_artifacts/recall_pr_threshold.json')\n",
        "train_model_info =  load_json(train_artifacts_loc)\n",
        "print(train_model_info)\n",
        "\n",
        "# Feature Data types\n",
        "feature_path_ = os.path.join(os.getcwd(), 'ML_Ops_Practices/Model_artifacts/feature_dtypes.json')\n",
        "model_features = load_json(feature_path_)"
      ],
      "metadata": {
        "colab": {
          "base_uri": "https://localhost:8080/"
        },
        "id": "2bdFIQzfoVV_",
        "outputId": "70d1d6dc-a042-45cb-fa90-d4c1841456dd"
      },
      "execution_count": null,
      "outputs": [
        {
          "output_type": "stream",
          "name": "stdout",
          "text": [
            "{'Model_name': 'LogisticRegression', 'selected_metric': 'precision', 'precision': '0.4', 'recall': '0.27474462839027824', 'cut-off': '0.22'}\n"
          ]
        }
      ]
    },
    {
      "cell_type": "markdown",
      "source": [
        "### Terminologies\n",
        "\n",
        "There are primarily two dataset used in the entire exercise, mentioning below:\n",
        "\n",
        "**Test Data / Prod Data**: Dataset on which model was evaluated, Model & Feature Scores will be generated from  this dataset to compare with new dataset.\n",
        "\n",
        "**Monitoring Data / Validation Data**: New Inflow data getting streamed into business, scores will be evaluated based on model's performance on validation dataset.  "
      ],
      "metadata": {
        "id": "E-voqS4nn20U"
      }
    },
    {
      "cell_type": "markdown",
      "source": [
        "#### Feature Eng on Monitoring Data (Validation Data)\n",
        "( Executed Through Pipeline shown in Pipeline 1)"
      ],
      "metadata": {
        "id": "QombEbqeof93"
      }
    },
    {
      "cell_type": "code",
      "source": [
        "\n",
        "# All Steps for Feature engineering are saved in the module: feature_eng_config.py\n",
        "#  Columns to be excluded can be altered from env_var.py\n",
        "\n",
        "# Test Data : Test Data From Train and test split. \n",
        "\n",
        "# The create_feature_pipeline was not transformed prior to loading the test data for the following reasons:\n",
        "# Addtional weightage on data size, by data getting duplicated adding vector (It almost doubles the data Size). \n",
        "\n",
        "Feature_eng_Pipeline =  Pipeline(stages=[create_feature_pipeline])\n",
        "Featpip = Feature_eng_Pipeline.fit(test_)\n",
        "test_transform = Featpip.transform(test_)\n",
        "\n",
        "# Monitoring Data\n",
        "# Pipeline Execution for Feature Engineering Steps (Validation Data)\n",
        "Feature_eng_Pipeline_val =  Pipeline(stages=[step_1_one_hot_enc, step_2_diabetic_enc_pregnancy,\n",
        "                                             step_3_ordinal_mapping, step_4_regex, create_feature_pipeline])\n",
        "Featpip_val = Feature_eng_Pipeline_val.fit(val_)\n",
        "val_transform = Featpip_val.transform(val_)"
      ],
      "metadata": {
        "id": "g7KynaiX4kav"
      },
      "execution_count": null,
      "outputs": []
    },
    {
      "cell_type": "code",
      "source": [
        "test_transform.show(3)\n",
        "val_transform.show(3)"
      ],
      "metadata": {
        "colab": {
          "base_uri": "https://localhost:8080/"
        },
        "id": "Ad1ogIRM8Tee",
        "outputId": "c7cbb987-4d32-4037-c820-ac0a01f36dba"
      },
      "execution_count": null,
      "outputs": [
        {
          "output_type": "stream",
          "name": "stdout",
          "text": [
            "+-----+--------------+------------+---------+----------------+-----------+-------------------+----------+---------------+----------+--------------------+----------+-----------------+--------------+-----------------------------+----------------------------------+----------+----------+-------------+----------+---------------------+--------------------+-----------------------+--------------------+\n",
            "|  BMI|PhysicalHealth|MentalHealth|SleepTime|HeartDisease_Yes|Smoking_Yes|AlcoholDrinking_Yes|Stroke_Yes|DiffWalking_Yes|Sex_Female|PhysicalActivity_Yes|Asthma_Yes|KidneyDisease_Yes|SkinCancer_Yes|Diabetic_Yes_during_pregnancy|Race_American_IndianAlaskan_Native|Race_Asian|Race_Black|Race_Hispanic|Race_White|GenHealth_transformed|Diabetic_transformed|AgeCategory_transformed|            features|\n",
            "+-----+--------------+------------+---------+----------------+-----------+-------------------+----------+---------------+----------+--------------------+----------+-----------------+--------------+-----------------------------+----------------------------------+----------+----------+-------------+----------+---------------------+--------------------+-----------------------+--------------------+\n",
            "|23.73|           0.0|         0.0|      7.0|               0|          0|                  0|         0|              0|         0|                   1|         0|                0|             0|                            0|                                 0|         0|         0|            0|         1|                  4.5|                 0.0|                   70.0|(22,[0,3,9,18,19,...|\n",
            "|27.81|           1.0|         0.0|      5.0|               0|          0|                  0|         0|              0|         1|                   1|         0|                0|             0|                            0|                                 0|         0|         0|            0|         0|                  4.5|                 0.0|                   30.0|(22,[0,1,3,8,9,19...|\n",
            "|27.44|           0.0|         5.0|      6.0|               0|          0|                  0|         0|              0|         1|                   1|         0|                0|             0|                            0|                                 0|         0|         0|            0|         1|                  4.5|                 0.0|                   50.0|(22,[0,2,3,8,9,18...|\n",
            "+-----+--------------+------------+---------+----------------+-----------+-------------------+----------+---------------+----------+--------------------+----------+-----------------+--------------+-----------------------------+----------------------------------+----------+----------+-------------+----------+---------------------+--------------------+-----------------------+--------------------+\n",
            "only showing top 3 rows\n",
            "\n",
            "+-----+--------------+------------+---------+------------+----------------+-----------+-------------------+----------+---------------+----------+--------------------+----------+-----------------+--------------+-----------------------------+----------------------------------+----------+----------+-------------+----------+---------------------+--------------------+-----------------------+--------------------+\n",
            "|  BMI|PhysicalHealth|MentalHealth|SleepTime|capture_date|HeartDisease_Yes|Smoking_Yes|AlcoholDrinking_Yes|Stroke_Yes|DiffWalking_Yes|Sex_Female|PhysicalActivity_Yes|Asthma_Yes|KidneyDisease_Yes|SkinCancer_Yes|Diabetic_Yes_during_pregnancy|Race_American_IndianAlaskan_Native|Race_Asian|Race_Black|Race_Hispanic|Race_White|GenHealth_transformed|Diabetic_transformed|AgeCategory_transformed|            features|\n",
            "+-----+--------------+------------+---------+------------+----------------+-----------+-------------------+----------+---------------+----------+--------------------+----------+-----------------+--------------+-----------------------------+----------------------------------+----------+----------+-------------+----------+---------------------+--------------------+-----------------------+--------------------+\n",
            "|29.76|           0.0|         2.0|      7.0|  2021-04-01|               0|          0|                  0|         0|              0|         1|                   1|         0|                0|             0|                            0|                                 0|         0|         0|            0|         1|                  4.5|                 0.0|                   30.0|(22,[0,2,3,8,9,18...|\n",
            "| 27.8|           0.0|         0.0|      8.0|  2021-04-01|               0|          0|                  0|         0|              0|         1|                   1|         0|                0|             1|                            0|                                 0|         0|         0|            0|         1|                  4.5|                 0.0|                   55.0|(22,[0,3,8,9,12,1...|\n",
            "|29.54|           0.0|         0.0|      6.0|  2021-04-01|               0|          0|                  1|         0|              0|         1|                   1|         0|                0|             0|                            0|                                 0|         0|         0|            0|         1|                  4.0|                 3.0|                   50.0|(22,[0,3,5,8,9,18...|\n",
            "+-----+--------------+------------+---------+------------+----------------+-----------+-------------------+----------+---------------+----------+--------------------+----------+-----------------+--------------+-----------------------------+----------------------------------+----------+----------+-------------+----------+---------------------+--------------------+-----------------------+--------------------+\n",
            "only showing top 3 rows\n",
            "\n"
          ]
        }
      ]
    },
    {
      "cell_type": "markdown",
      "source": [
        "### Executing Monitoring Pipeline.\n",
        "\n",
        "1. Model Scores.\n",
        "2. Feature Scores.\n",
        "3. Data Drift"
      ],
      "metadata": {
        "id": "pp1IAHFR8fyH"
      }
    },
    {
      "cell_type": "markdown",
      "source": [
        "### 1. Model Scores"
      ],
      "metadata": {
        "id": "b4-lGUO-QdiA"
      }
    },
    {
      "cell_type": "markdown",
      "source": [
        "#### Loading Model."
      ],
      "metadata": {
        "id": "syaRiPC9nqPv"
      }
    },
    {
      "cell_type": "code",
      "source": [
        "%%capture\n",
        "!unzip $dir/$repo_2/$file_3 -d output/\n",
        "# (Selected Model was pushed to Git post retraining as Zip file)\n",
        "prod_model = loadModel(input_model = 'LogisticRegression')"
      ],
      "metadata": {
        "id": "1U916ULW-86W"
      },
      "execution_count": null,
      "outputs": []
    },
    {
      "cell_type": "markdown",
      "source": [
        "### Monitoring Pipeline Steps & Execution\n",
        "Below are pipeline Steps to generate Model Score Summary on validation Dataset. (Recall, Precision, Accuracy, ROC_AUC, avg_pr etc..)\n"
      ],
      "metadata": {
        "id": "5ANFvmyGFoLZ"
      }
    },
    {
      "cell_type": "code",
      "source": [
        "# step 1\n",
        "# Model Cut-off Threshold:\n",
        "model_threshold_ = np.float(train_model_info['cut-off'])\n",
        "#  Model Inference\n",
        "Model_inference_step1 = model_inference_pipeline(model_ = prod_model,apply_cutoff=True, model_threshold = model_threshold_)\n",
        "\n",
        "# Step 2\n",
        "# Label Dict\n",
        "label_dictionary_ = {0.0: \"Heart Disease No\", 1.0: \"Heart Disease Yes\"}\n",
        "# Model Scores\n",
        "model_scores_step2 =  model_scores_pipeline(prediction_col = 'prediction_with_threshold',\n",
        "                                        lable_col =  'HeartDisease_Yes',\n",
        "                                        label_dict =  label_dictionary_, prob_col = 'prob_raw', \n",
        "                                        model_verion = 1 , model_name =  train_model_info['Model_name'])"
      ],
      "metadata": {
        "id": "lyy_zkTZvUjl"
      },
      "execution_count": null,
      "outputs": []
    },
    {
      "cell_type": "code",
      "source": [
        "# Pipeline Orchestration: Model Performance \n",
        "monitoring_Pipeline =  Pipeline(stages=[Model_inference_step1, model_scores_step2])\n",
        "\n",
        "# Monitoring Pipeline (Test)\n",
        "monitoring_pc = monitoring_Pipeline.fit(test_transform)\n",
        "test_transform_summary = monitoring_pc.transform(test_transform)\n",
        "\n",
        "# Monitoring Pipeline (val)\n",
        "monitoring_pc_val = monitoring_Pipeline.fit(val_transform)\n",
        "val_transform_summary = monitoring_pc_val.transform(val_transform)"
      ],
      "metadata": {
        "id": "I2iutJYrFqAT"
      },
      "execution_count": null,
      "outputs": []
    },
    {
      "cell_type": "code",
      "source": [
        "# Display of model results on monitoring Data. \n",
        "val_transform_summary.show()"
      ],
      "metadata": {
        "colab": {
          "base_uri": "https://localhost:8080/"
        },
        "id": "Om2PvAAVnPZ3",
        "outputId": "667e17d7-5af5-48f9-c4c2-8b8fdc390800"
      },
      "execution_count": null,
      "outputs": [
        {
          "output_type": "stream",
          "name": "stdout",
          "text": [
            "+-------------+-----------------+--------------------+------------------+------------------+------------+\n",
            "|Model_version|   Label_category|         Metric_name|      Metric_value|        classifier|capture_date|\n",
            "+-------------+-----------------+--------------------+------------------+------------------+------------+\n",
            "|            1| Heart Disease No|           precision|0.9342530889293479|LogisticRegression|  2022-11-16|\n",
            "|            1| Heart Disease No|              recall|0.9624601657106437|LogisticRegression|  2022-11-16|\n",
            "|            1| Heart Disease No|          F1 Measure|0.9481468857634903|LogisticRegression|  2022-11-16|\n",
            "|            1|Heart Disease Yes|           precision|0.4042768386071377|LogisticRegression|  2022-11-16|\n",
            "|            1|Heart Disease Yes|              recall|0.2733222623815571|LogisticRegression|  2022-11-16|\n",
            "|            1|Heart Disease Yes|          F1 Measure|0.3261452383727707|LogisticRegression|  2022-11-16|\n",
            "|            1| Weighted_Overall|     Weighted recall| 0.903703765397653|LogisticRegression|  2022-11-16|\n",
            "|            1| Weighted_Overall|            Accuracy| 0.903703765397653|LogisticRegression|  2022-11-16|\n",
            "|            1| Weighted_Overall|  Weighted precision|0.8890669272483825|LogisticRegression|  2022-11-16|\n",
            "|            1| Weighted_Overall| Weighted F(1) Score|  0.89511457160274|LogisticRegression|  2022-11-16|\n",
            "|            1| Weighted_Overall|Weighted F(0.5) S...|0.8910915130943673|LogisticRegression|  2022-11-16|\n",
            "|            1| Weighted_Overall|Weighted false po...|0.6679213373054521|LogisticRegression|  2022-11-16|\n",
            "|            1| Weighted_Overall|             roc_auc| 0.832689617799035|LogisticRegression|  2022-11-16|\n",
            "|            1| Weighted_Overall|              avg_pr|0.3317219463725135|LogisticRegression|  2022-11-16|\n",
            "+-------------+-----------------+--------------------+------------------+------------------+------------+\n",
            "\n"
          ]
        }
      ]
    },
    {
      "cell_type": "markdown",
      "source": [
        "### Feature Scores\n",
        "\n",
        "Feature Scores calculates relationship between Y-Label and Input Features. In other words change in X variable influencing the Y varaible in statistically proven manner.\n",
        "\n",
        "Chi-square test:  Categorical to Categorical test at P-Value significance.  \n",
        "Annova test: continuous to categorical test at P-Value significance test.  \n",
        "\n",
        "*Lesser P-value has more significance\n",
        "\n",
        "Both test helps in determining Level of Significance using Statistical test.  "
      ],
      "metadata": {
        "id": "vyC6_QXYQiIO"
      }
    },
    {
      "cell_type": "code",
      "source": [
        "# Features Score\n",
        "feature_score_step = input_feature_pipeline(cat_var = model_features['category_col'] ,\n",
        "                                            cont_var = model_features['Cont_cols'],\n",
        "                                            label_feature = 'HeartDisease_Yes', model_version = 1)"
      ],
      "metadata": {
        "id": "xi-y7LFXZqAV"
      },
      "execution_count": null,
      "outputs": []
    },
    {
      "cell_type": "code",
      "source": [
        "# Feature Score Pipeline\n",
        "feature_scores_pipeline =  Pipeline(stages=[feature_score_step])\n",
        "\n",
        "# Monitoring Pipeline (Test)\n",
        "feature_score_pc = feature_scores_pipeline.fit(test_transform)\n",
        "feature_summary_test = feature_score_pc.transform(test_transform)\n",
        "\n",
        "# Monitoring Pipeline (val)\n",
        "feature_score_pc_val = feature_scores_pipeline.fit(val_transform)\n",
        "feature_summary_val = feature_score_pc_val.transform(val_transform)"
      ],
      "metadata": {
        "id": "M2tBdY2eFBVU",
        "colab": {
          "base_uri": "https://localhost:8080/"
        },
        "outputId": "33dd49b3-6ded-4276-e65c-84802e2408cc"
      },
      "execution_count": null,
      "outputs": [
        {
          "output_type": "stream",
          "name": "stdout",
          "text": [
            "------------------- Calculating Chi scores-------------------\n",
            "------------------- Calculating Anova scores-------------------\n",
            "------------------- Calculating Chi scores-------------------\n",
            "------------------- Calculating Anova scores-------------------\n"
          ]
        }
      ]
    },
    {
      "cell_type": "code",
      "source": [
        "feature_summary_val.show()"
      ],
      "metadata": {
        "colab": {
          "base_uri": "https://localhost:8080/"
        },
        "id": "KxgxdX_jgo2t",
        "outputId": "b1f4a5f5-e783-4cbc-b9f2-ed7634231630"
      },
      "execution_count": null,
      "outputs": [
        {
          "output_type": "stream",
          "name": "stdout",
          "text": [
            "+-------------+--------------+--------------------+--------------------+------------+------------+\n",
            "|Model_version|Label_category|        Feature_name|         Metric_name|Metric_value|capture_date|\n",
            "+-------------+--------------+--------------------+--------------------+------------+------------+\n",
            "|            1|   Categorical|         Smoking_Yes|Chi-Square test -...|         0.0|  2022-11-16|\n",
            "|            1|   Categorical| AlcoholDrinking_Yes|Chi-Square test -...|         0.0|  2022-11-16|\n",
            "|            1|   Categorical|          Stroke_Yes|Chi-Square test -...|         0.0|  2022-11-16|\n",
            "|            1|   Categorical|     DiffWalking_Yes|Chi-Square test -...|         0.0|  2022-11-16|\n",
            "|            1|   Categorical|          Sex_Female|Chi-Square test -...|         0.0|  2022-11-16|\n",
            "|            1|   Categorical|PhysicalActivity_Yes|Chi-Square test -...|         0.0|  2022-11-16|\n",
            "|            1|   Categorical|          Asthma_Yes|Chi-Square test -...|         0.0|  2022-11-16|\n",
            "|            1|   Categorical|   KidneyDisease_Yes|Chi-Square test -...|         0.0|  2022-11-16|\n",
            "|            1|   Categorical|      SkinCancer_Yes|Chi-Square test -...|         0.0|  2022-11-16|\n",
            "|            1|   Categorical|Diabetic_Yes_duri...|Chi-Square test -...|         0.0|  2022-11-16|\n",
            "|            1|   Categorical|Race_American_Ind...|Chi-Square test -...|       0.001|  2022-11-16|\n",
            "|            1|   Categorical|          Race_Asian|Chi-Square test -...|         0.0|  2022-11-16|\n",
            "|            1|   Categorical|          Race_Black|Chi-Square test -...|         0.0|  2022-11-16|\n",
            "|            1|   Categorical|       Race_Hispanic|Chi-Square test -...|         0.0|  2022-11-16|\n",
            "|            1|   Categorical|          Race_White|Chi-Square test -...|         0.0|  2022-11-16|\n",
            "|            1|     Continous|                 BMI| Anova test - pValue|         0.0|  2022-11-16|\n",
            "|            1|     Continous|      PhysicalHealth| Anova test - pValue|         0.0|  2022-11-16|\n",
            "|            1|     Continous|        MentalHealth| Anova test - pValue|         0.0|  2022-11-16|\n",
            "|            1|     Continous|           SleepTime| Anova test - pValue|       0.519|  2022-11-16|\n",
            "|            1|     Continous|GenHealth_transfo...| Anova test - pValue|         0.0|  2022-11-16|\n",
            "+-------------+--------------+--------------------+--------------------+------------+------------+\n",
            "only showing top 20 rows\n",
            "\n"
          ]
        }
      ]
    },
    {
      "cell_type": "markdown",
      "source": [
        "### Data Drift\n",
        "\n",
        "\n",
        "Data drift compares statistical relationship between two datasets, i.e.  Production and Monitoring Data,  There are two test types performed  \n",
        "\n",
        "Jensen Shannon divergence Test:  Compares  divergence in distribution between two categorical  data, Higher the score, higher the divergence. \n",
        "\n",
        "E.g. In Data Inflow the data for Asthama patient is not being recorded in new production environment. through JS Divergence test, we can monitor level of divergence within categorical variable.\n",
        "\n",
        "Kolmogorov–Smirnov test: Compares  divergence in distribution between two continous data, score are measured through P-Value Significance, Lower the P-Value higher the divergence.\n",
        "\n"
      ],
      "metadata": {
        "id": "TQxXbYmdsRqN"
      }
    },
    {
      "cell_type": "code",
      "source": [
        "# Data Drift Summary\n",
        "data_drif_summary = data_drift(df1 = test_transform, df2 = val_transform , cat_feature = model_features['category_col'],\n",
        "                               cont_feature = model_features['Cont_cols'], dep_var = 'HeartDisease_Yes', model_version =  1)"
      ],
      "metadata": {
        "id": "qVTJpVV9s62O"
      },
      "execution_count": null,
      "outputs": []
    },
    {
      "cell_type": "code",
      "source": [
        "data_drif_summary.show()"
      ],
      "metadata": {
        "colab": {
          "base_uri": "https://localhost:8080/"
        },
        "id": "MTK-NB423ByU",
        "outputId": "009df297-ef11-478d-e2c8-bbe2bbd4b18d"
      },
      "execution_count": null,
      "outputs": [
        {
          "output_type": "stream",
          "name": "stdout",
          "text": [
            "+-------------+--------------+--------------------+--------------------+------------+------------+\n",
            "|Model_version|Label_category|        Feature_name|         Metric_name|Metric_value|capture_date|\n",
            "+-------------+--------------+--------------------+--------------------+------------+------------+\n",
            "|            1|   Categorical|         Smoking_Yes|       JS_Divergence|         0.0|  2022-11-16|\n",
            "|            1|   Categorical| AlcoholDrinking_Yes|       JS_Divergence|         0.0|  2022-11-16|\n",
            "|            1|   Categorical|          Stroke_Yes|       JS_Divergence|         0.0|  2022-11-16|\n",
            "|            1|   Categorical|     DiffWalking_Yes|       JS_Divergence|         0.0|  2022-11-16|\n",
            "|            1|   Categorical|          Sex_Female|       JS_Divergence|         0.0|  2022-11-16|\n",
            "|            1|   Categorical|PhysicalActivity_Yes|       JS_Divergence|         0.0|  2022-11-16|\n",
            "|            1|   Categorical|          Asthma_Yes|       JS_Divergence|         0.0|  2022-11-16|\n",
            "|            1|   Categorical|   KidneyDisease_Yes|       JS_Divergence|         0.0|  2022-11-16|\n",
            "|            1|   Categorical|      SkinCancer_Yes|       JS_Divergence|         0.0|  2022-11-16|\n",
            "|            1|   Categorical|Diabetic_Yes_duri...|       JS_Divergence|         0.0|  2022-11-16|\n",
            "|            1|   Categorical|Race_American_Ind...|       JS_Divergence|         0.0|  2022-11-16|\n",
            "|            1|   Categorical|          Race_Asian|       JS_Divergence|         0.0|  2022-11-16|\n",
            "|            1|   Categorical|          Race_Black|       JS_Divergence|         0.0|  2022-11-16|\n",
            "|            1|   Categorical|       Race_Hispanic|       JS_Divergence|         0.0|  2022-11-16|\n",
            "|            1|   Categorical|          Race_White|       JS_Divergence|         0.0|  2022-11-16|\n",
            "|            1|   Categorical|    HeartDisease_Yes|       JS_Divergence|         0.0|  2022-11-16|\n",
            "|            1|     Continous|                 BMI|KS_Divergence - P...|       0.404|  2022-11-16|\n",
            "|            1|     Continous|      PhysicalHealth|KS_Divergence - P...|         1.0|  2022-11-16|\n",
            "|            1|     Continous|        MentalHealth|KS_Divergence - P...|       0.468|  2022-11-16|\n",
            "|            1|     Continous|           SleepTime|KS_Divergence - P...|       0.234|  2022-11-16|\n",
            "+-------------+--------------+--------------------+--------------------+------------+------------+\n",
            "only showing top 20 rows\n",
            "\n"
          ]
        }
      ]
    },
    {
      "cell_type": "markdown",
      "source": [
        "## Log Structure For Monitoring\n",
        "\n",
        "Log tables are baically a master table that keep append new monitoring data over time, like time over time when new data is generated within the business. log table record performance of model, features getting dispersed over time. It'll  be reffered by model re-train modules to determine whether model has entered Model drift or concept drift over time, as it helps in understanding the gap between the production and the montitoring data performance. \n",
        "\n",
        "\n"
      ],
      "metadata": {
        "id": "22IIPLz23ntd"
      }
    },
    {
      "cell_type": "markdown",
      "source": [
        "#### Terminologies\n",
        "\n",
        "**Base score**: Score generated by model on Base dataset, i.e. first time the score that were generated by the model, base model score is stored  to understand the gap between the model.\n",
        "\n",
        "**Prod score**: Score generated by production model with the latest score in the production after retrain \n",
        "\n",
        "**Monitoring score**: Score generated from latest monitoring data recorded within the system."
      ],
      "metadata": {
        "id": "rFs7HvPD4VZ5"
      }
    },
    {
      "cell_type": "markdown",
      "source": [
        "### Model Performance Monitoring Log Structure. "
      ],
      "metadata": {
        "id": "a5ByOQoMH9Mu"
      }
    },
    {
      "cell_type": "code",
      "source": [
        "# Monitoring Log Table Creation\n",
        "test_transform_summary.registerTempTable('prod_model_score')\n",
        "\n",
        "# Log table Schema.\n",
        "Log_table =  spark.sql(\"\"\"SELECT  Model_version AS Model_version, Label_category,  Metric_name, Metric_value as Base_Model_Metric_Score, \n",
        "                            Metric_value as Prod_Model_Metric_Score, Metric_value as Monitor_Metric_Score, Metric_value as Score_delta , \n",
        "                            capture_date AS capture_date from prod_model_score\"\"\")\n",
        "\n",
        "Log_table_structure_df =  spark.createDataFrame([],Log_table.schema)"
      ],
      "metadata": {
        "id": "l64TfZ9O2p4i"
      },
      "execution_count": null,
      "outputs": []
    },
    {
      "cell_type": "code",
      "source": [
        "\n",
        "# Monitoring Log Table Creation\n",
        "test_transform_summary.registerTempTable('prod_model_score')\n",
        "test_transform_summary.registerTempTable('base_model_score')\n",
        "# Registering New Monitoring Info Received.\n",
        "val_transform_summary.registerTempTable('Monitoring_score')\n",
        "\n",
        "\n",
        "new_monitor_log = spark.sql(\"\"\"SELECT A.Model_version, A.Label_category, A.Metric_name, B.Metric_value AS Base_Model_Metric_Score,  \n",
        "                               A.Metric_value AS Prod_Model_Metric_Score,  C.Metric_value AS Monitor_Metric_Score, \n",
        "                              ROUND((C.Metric_value / A.Metric_value) - 1, 3) AS Score_delta , CURRENT_DATE() AS capture_date FROM \n",
        "                               prod_model_score A LEFT JOIN base_model_score B ON A.Metric_name = B.Metric_name AND A.Label_category =B.Label_category\n",
        "                                                  LEFT JOIN Monitoring_score C ON A.Metric_name = C.Metric_name AND A.Label_category =C.Label_category\"\"\")\n",
        "# Monitoring score captured\n",
        "new_monitor_log.registerTempTable('Monitoring_score_new_log_entry')\n",
        "\n",
        "# Capturing Monitoring info in Log Table with Delta.\n",
        "Log_table_structure_df = Log_table_structure_df.union(new_monitor_log)\n",
        "Log_table_structure_df.show()"
      ],
      "metadata": {
        "colab": {
          "base_uri": "https://localhost:8080/"
        },
        "id": "3qaVs2Ur45fb",
        "outputId": "4a57b4c2-1909-4f22-aa32-c32e2f064107"
      },
      "execution_count": null,
      "outputs": [
        {
          "output_type": "stream",
          "name": "stdout",
          "text": [
            "+-------------+-----------------+--------------------+-----------------------+-----------------------+--------------------+-----------+------------+\n",
            "|Model_version|   Label_category|         Metric_name|Base_Model_Metric_Score|Prod_Model_Metric_Score|Monitor_Metric_Score|Score_delta|capture_date|\n",
            "+-------------+-----------------+--------------------+-----------------------+-----------------------+--------------------+-----------+------------+\n",
            "|            1| Weighted_Overall| Weighted F(1) Score|     0.8954605375421371|     0.8954605375421371|    0.89511457160274|        0.0|  2022-11-16|\n",
            "|            1| Weighted_Overall|             roc_auc|     0.8318491969096977|     0.8318491969096977|   0.832689617799035|      0.001|  2022-11-16|\n",
            "|            1|Heart Disease Yes|          F1 Measure|    0.32939189189189183|    0.32939189189189183|  0.3261452383727707|      -0.01|  2022-11-16|\n",
            "|            1| Heart Disease No|              recall|     0.9631729913290034|     0.9631729913290034|  0.9624601657106437|     -0.001|  2022-11-16|\n",
            "|            1|Heart Disease Yes|              recall|    0.27474462839027824|    0.27474462839027824|  0.2733222623815571|     -0.005|  2022-11-16|\n",
            "|            1| Weighted_Overall|            Accuracy|     0.9042508290624058|     0.9042508290624058|   0.903703765397653|     -0.001|  2022-11-16|\n",
            "|            1| Weighted_Overall|     Weighted recall|     0.9042508290624058|     0.9042508290624058|   0.903703765397653|     -0.001|  2022-11-16|\n",
            "|            1| Heart Disease No|           precision|     0.9341604579029834|     0.9341604579029834|  0.9342530889293479|        0.0|  2022-11-16|\n",
            "|            1| Weighted_Overall|Weighted F(0.5) S...|     0.8913963867320448|     0.8913963867320448|  0.8910915130943673|        0.0|  2022-11-16|\n",
            "|            1| Weighted_Overall|Weighted false po...|     0.6663332093431241|     0.6663332093431241|  0.6679213373054521|      0.002|  2022-11-16|\n",
            "|            1| Heart Disease No|          F1 Measure|     0.9484449061749236|     0.9484449061749236|  0.9481468857634903|        0.0|  2022-11-16|\n",
            "|            1| Weighted_Overall|  Weighted precision|     0.8893984988737794|     0.8893984988737794|  0.8890669272483825|        0.0|  2022-11-16|\n",
            "|            1| Weighted_Overall|              avg_pr|     0.3349571242531368|     0.3349571242531368|  0.3317219463725135|      -0.01|  2022-11-16|\n",
            "|            1|Heart Disease Yes|           precision|    0.41117554032683185|    0.41117554032683185|  0.4042768386071377|     -0.017|  2022-11-16|\n",
            "+-------------+-----------------+--------------------+-----------------------+-----------------------+--------------------+-----------+------------+\n",
            "\n"
          ]
        }
      ]
    },
    {
      "cell_type": "markdown",
      "source": [
        "### Insight\n",
        "We observe that the delta between the performance on New Monitoring data and production data is quite consistent. as we see on Key figure like avg_pr, ROC_AUC figures are performing quite in consistency with the prod model.   \n",
        "\n",
        "\n",
        "### **Sample Snapshot of Model performance observing model recall.** \n",
        "<img src=\"https://raw.githubusercontent.com/mohdtaher2022/ML_Ops_Practices/main/Model_artifacts/Images/Model_Trend_line.PNG\" alt=\"Alternative text\" />\n",
        "\n",
        "\n",
        "The figure is having Capture date as X-axis and scores of Base , prod, monitor on Y-axis. We see that scores deviate beetween monitor and production time to time and base score remains constant over time. Once the re-train module detects dip, it starts auto retraining the production.\n"
      ],
      "metadata": {
        "id": "V2eHM2A_DQ0_"
      }
    },
    {
      "cell_type": "markdown",
      "source": [
        "### Feature Score Monitoring Log Structure. "
      ],
      "metadata": {
        "id": "qjCOUivkHJ7P"
      }
    },
    {
      "cell_type": "code",
      "source": [
        "# Monitoring Log Table Creation\n",
        "feature_summary_test.registerTempTable('prod_feature_score')\n",
        "\n",
        "# Features Log table Schema.\n",
        "Features_log_table =  spark.sql(\"\"\"SELECT  Model_version AS Model_version, Label_category,  Feature_name, Metric_name,\n",
        "                                    Metric_value as Base_feature_Score, Metric_value as Prod_feature_Score, \n",
        "                                    Metric_value as Monitor_feature_Score, Metric_value as Score_delta , \n",
        "                                    capture_date AS capture_date from prod_feature_score\"\"\")\n",
        "Features_log_table_structure_df =  spark.createDataFrame([],Features_log_table.schema)"
      ],
      "metadata": {
        "id": "1ji1Hv3LdYKv"
      },
      "execution_count": null,
      "outputs": []
    },
    {
      "cell_type": "code",
      "source": [
        "\n",
        "# REGISTERING the base and Production table \n",
        "feature_summary_test.registerTempTable('base_feature_score')\n",
        "feature_summary_test.registerTempTable('prod_feature_score')\n",
        "\n",
        "# Registering New Monitoring Info Received.\n",
        "feature_summary_val.registerTempTable('Monitoring_feature_score')\n",
        "\n",
        "\n",
        "new_monitor_feature_log = spark.sql(\"\"\"SELECT A.Model_version, A.Label_category, A.Feature_name, A.Metric_name, B.Metric_value AS Base_feature_Score,  \n",
        "                               A.Metric_value AS Prod_feature_Score,  C.Metric_value AS Monitor_feature_Score, \n",
        "                              (C.Metric_value / A.Metric_value) - 1 AS Score_delta , CURRENT_DATE() AS capture_date FROM \n",
        "                               prod_feature_score A \n",
        "                               LEFT JOIN base_feature_score B ON A.Feature_name = B.Feature_name AND A.Label_category =B.Label_category\n",
        "                               LEFT JOIN Monitoring_feature_score C ON A.Feature_name = C.Feature_name AND A.Label_category =C.Label_category\"\"\")\n",
        "\n",
        "new_monitor_feature_log.registerTempTable('Monitoring_feature_score_new_log_entry')\n",
        "\n",
        "# Capturing Monitoring info in Log Table with Delta.\n",
        "Features_log_table_structure_df = Features_log_table_structure_df.union(new_monitor_feature_log)\n",
        "Features_log_table_structure_df.show()"
      ],
      "metadata": {
        "colab": {
          "base_uri": "https://localhost:8080/"
        },
        "id": "3JGdlysBJuQY",
        "outputId": "a9b9fc76-5054-47e3-d53b-2a8f126764a4"
      },
      "execution_count": null,
      "outputs": [
        {
          "output_type": "stream",
          "name": "stdout",
          "text": [
            "+-------------+--------------+--------------------+--------------------+------------------+------------------+---------------------+-----------+------------+\n",
            "|Model_version|Label_category|        Feature_name|         Metric_name|Base_feature_Score|Prod_feature_Score|Monitor_feature_Score|Score_delta|capture_date|\n",
            "+-------------+--------------+--------------------+--------------------+------------------+------------------+---------------------+-----------+------------+\n",
            "|            1|     Continous|AgeCategory_trans...| Anova test - pValue|               0.0|               0.0|                  0.0|       null|  2022-11-16|\n",
            "|            1|   Categorical|     DiffWalking_Yes|Chi-Square test -...|               0.0|               0.0|                  0.0|       null|  2022-11-16|\n",
            "|            1|   Categorical|Race_American_Ind...|Chi-Square test -...|             0.004|             0.004|                0.001|      -0.75|  2022-11-16|\n",
            "|            1|   Categorical|          Sex_Female|Chi-Square test -...|               0.0|               0.0|                  0.0|       null|  2022-11-16|\n",
            "|            1|   Categorical|          Stroke_Yes|Chi-Square test -...|               0.0|               0.0|                  0.0|       null|  2022-11-16|\n",
            "|            1|   Categorical| AlcoholDrinking_Yes|Chi-Square test -...|               0.0|               0.0|                  0.0|       null|  2022-11-16|\n",
            "|            1|     Continous|GenHealth_transfo...| Anova test - pValue|               0.0|               0.0|                  0.0|       null|  2022-11-16|\n",
            "|            1|     Continous|                 BMI| Anova test - pValue|               0.0|               0.0|                  0.0|       null|  2022-11-16|\n",
            "|            1|   Categorical|Diabetic_Yes_duri...|Chi-Square test -...|             0.001|             0.001|                  0.0|       -1.0|  2022-11-16|\n",
            "|            1|   Categorical|   KidneyDisease_Yes|Chi-Square test -...|               0.0|               0.0|                  0.0|       null|  2022-11-16|\n",
            "|            1|   Categorical|          Race_Asian|Chi-Square test -...|               0.0|               0.0|                  0.0|       null|  2022-11-16|\n",
            "|            1|   Categorical|          Race_Black|Chi-Square test -...|             0.001|             0.001|                  0.0|       -1.0|  2022-11-16|\n",
            "|            1|     Continous|Diabetic_transformed| Anova test - pValue|               0.0|               0.0|                  0.0|       null|  2022-11-16|\n",
            "|            1|     Continous|        MentalHealth| Anova test - pValue|               0.0|               0.0|                  0.0|       null|  2022-11-16|\n",
            "|            1|   Categorical|PhysicalActivity_Yes|Chi-Square test -...|               0.0|               0.0|                  0.0|       null|  2022-11-16|\n",
            "|            1|     Continous|      PhysicalHealth| Anova test - pValue|               0.0|               0.0|                  0.0|       null|  2022-11-16|\n",
            "|            1|   Categorical|      SkinCancer_Yes|Chi-Square test -...|               0.0|               0.0|                  0.0|       null|  2022-11-16|\n",
            "|            1|     Continous|           SleepTime| Anova test - pValue|               0.0|               0.0|                0.519|       null|  2022-11-16|\n",
            "|            1|   Categorical|         Smoking_Yes|Chi-Square test -...|               0.0|               0.0|                  0.0|       null|  2022-11-16|\n",
            "|            1|   Categorical|          Asthma_Yes|Chi-Square test -...|               0.0|               0.0|                  0.0|       null|  2022-11-16|\n",
            "+-------------+--------------+--------------------+--------------------+------------------+------------------+---------------------+-----------+------------+\n",
            "only showing top 20 rows\n",
            "\n"
          ]
        }
      ]
    },
    {
      "cell_type": "markdown",
      "source": [
        "### Insight\n",
        "\n",
        "In above chart we that feature scores of monitoring data are quite at par with production data in terms of P-value score generation.\n",
        "\n",
        "P-Value for Sleep time in monitoring increased to 0.519, that is an indicator that Sleep time hasn't been significantly influencing Y variable in new data. as P-value is highly above the minimum threshold of 0.05 \n"
      ],
      "metadata": {
        "id": "CPTBywo1fdie"
      }
    },
    {
      "cell_type": "markdown",
      "source": [
        "### Data Drift Monitoring Log Structure. "
      ],
      "metadata": {
        "id": "ewUkZMghHFbE"
      }
    },
    {
      "cell_type": "code",
      "source": [
        "Data_drift_log_table =  spark.createDataFrame([],data_drif_summary.schema)"
      ],
      "metadata": {
        "id": "Gd8yWajghKIY"
      },
      "execution_count": null,
      "outputs": []
    },
    {
      "cell_type": "code",
      "source": [
        "# Capturing Monitoring info in Log Table with Delta.\n",
        "Data_drift_log_table = Data_drift_log_table.union(data_drif_summary)\n",
        "Data_drift_log_table.show()"
      ],
      "metadata": {
        "colab": {
          "base_uri": "https://localhost:8080/"
        },
        "id": "GtMjQNg8hJ8f",
        "outputId": "ed198848-7382-4786-f4d4-a3966b49c465"
      },
      "execution_count": null,
      "outputs": [
        {
          "output_type": "stream",
          "name": "stdout",
          "text": [
            "+-------------+--------------+--------------------+--------------------+------------+------------+\n",
            "|Model_version|Label_category|        Feature_name|         Metric_name|Metric_value|capture_date|\n",
            "+-------------+--------------+--------------------+--------------------+------------+------------+\n",
            "|            1|   Categorical|         Smoking_Yes|       JS_Divergence|         0.0|  2022-11-16|\n",
            "|            1|   Categorical| AlcoholDrinking_Yes|       JS_Divergence|         0.0|  2022-11-16|\n",
            "|            1|   Categorical|          Stroke_Yes|       JS_Divergence|         0.0|  2022-11-16|\n",
            "|            1|   Categorical|     DiffWalking_Yes|       JS_Divergence|         0.0|  2022-11-16|\n",
            "|            1|   Categorical|          Sex_Female|       JS_Divergence|         0.0|  2022-11-16|\n",
            "|            1|   Categorical|PhysicalActivity_Yes|       JS_Divergence|         0.0|  2022-11-16|\n",
            "|            1|   Categorical|          Asthma_Yes|       JS_Divergence|         0.0|  2022-11-16|\n",
            "|            1|   Categorical|   KidneyDisease_Yes|       JS_Divergence|         0.0|  2022-11-16|\n",
            "|            1|   Categorical|      SkinCancer_Yes|       JS_Divergence|         0.0|  2022-11-16|\n",
            "|            1|   Categorical|Diabetic_Yes_duri...|       JS_Divergence|         0.0|  2022-11-16|\n",
            "|            1|   Categorical|Race_American_Ind...|       JS_Divergence|         0.0|  2022-11-16|\n",
            "|            1|   Categorical|          Race_Asian|       JS_Divergence|         0.0|  2022-11-16|\n",
            "|            1|   Categorical|          Race_Black|       JS_Divergence|         0.0|  2022-11-16|\n",
            "|            1|   Categorical|       Race_Hispanic|       JS_Divergence|         0.0|  2022-11-16|\n",
            "|            1|   Categorical|          Race_White|       JS_Divergence|         0.0|  2022-11-16|\n",
            "|            1|   Categorical|    HeartDisease_Yes|       JS_Divergence|         0.0|  2022-11-16|\n",
            "|            1|     Continous|                 BMI|KS_Divergence - P...|       0.404|  2022-11-16|\n",
            "|            1|     Continous|      PhysicalHealth|KS_Divergence - P...|         1.0|  2022-11-16|\n",
            "|            1|     Continous|        MentalHealth|KS_Divergence - P...|       0.468|  2022-11-16|\n",
            "|            1|     Continous|           SleepTime|KS_Divergence - P...|       0.234|  2022-11-16|\n",
            "+-------------+--------------+--------------------+--------------------+------------+------------+\n",
            "only showing top 20 rows\n",
            "\n"
          ]
        }
      ]
    },
    {
      "cell_type": "markdown",
      "source": [
        "### Insights \n",
        "\n",
        "If we see JS Diverenge Scores for categorical data, the data distribution looks consistent among prod and monitoring data. \n",
        "\n",
        "Also for KS-Divergence test any of continous variables the distibution hasn't been significantly different in comparision between Prod and New validation. "
      ],
      "metadata": {
        "id": "i_07FGw9f5EH"
      }
    },
    {
      "cell_type": "markdown",
      "source": [
        "#### Packages and versions installed within the Python environment\n",
        "(Just to be used for cross validation of versions)"
      ],
      "metadata": {
        "id": "mCjn6G7aWyKf"
      }
    },
    {
      "cell_type": "code",
      "source": [
        "!pip freeze"
      ],
      "metadata": {
        "colab": {
          "base_uri": "https://localhost:8080/",
          "height": 5000
        },
        "id": "PS2nbs4ZWI9C",
        "outputId": "a7ec1591-7d63-42de-a20f-6cd6774ce9e6"
      },
      "execution_count": 9,
      "outputs": [
        {
          "output_type": "display_data",
          "data": {
            "text/plain": [
              "<IPython.core.display.Javascript object>"
            ],
            "application/javascript": [
              "google.colab.output.setIframeHeight(0, true, {maxHeight: 5000})"
            ]
          },
          "metadata": {}
        },
        {
          "output_type": "stream",
          "name": "stdout",
          "text": [
            "absl-py==1.3.0\n",
            "aeppl==0.0.33\n",
            "aesara==2.7.9\n",
            "aiohttp==3.8.3\n",
            "aiosignal==1.3.1\n",
            "alabaster==0.7.12\n",
            "albumentations==1.2.1\n",
            "altair==4.2.0\n",
            "appdirs==1.4.4\n",
            "arviz==0.12.1\n",
            "astor==0.8.1\n",
            "astropy==4.3.1\n",
            "astunparse==1.6.3\n",
            "async-timeout==4.0.2\n",
            "asynctest==0.13.0\n",
            "atari-py==0.2.9\n",
            "atomicwrites==1.4.1\n",
            "attrs==22.1.0\n",
            "audioread==3.0.0\n",
            "autograd==1.5\n",
            "Babel==2.11.0\n",
            "backcall==0.2.0\n",
            "beautifulsoup4==4.6.3\n",
            "bleach==5.0.1\n",
            "blis==0.7.9\n",
            "bokeh==2.3.3\n",
            "branca==0.6.0\n",
            "bs4==0.0.1\n",
            "CacheControl==0.12.11\n",
            "cached-property==1.5.2\n",
            "cachetools==5.2.0\n",
            "catalogue==2.0.8\n",
            "certifi==2022.9.24\n",
            "cffi==1.15.1\n",
            "cftime==1.6.2\n",
            "chardet==3.0.4\n",
            "charset-normalizer==2.1.1\n",
            "click==7.1.2\n",
            "clikit==0.6.2\n",
            "cloudpickle==1.5.0\n",
            "cmake==3.22.6\n",
            "cmdstanpy==1.0.8\n",
            "colorcet==3.0.1\n",
            "colorlover==0.3.0\n",
            "community==1.0.0b1\n",
            "confection==0.0.3\n",
            "cons==0.4.5\n",
            "contextlib2==0.5.5\n",
            "convertdate==2.4.0\n",
            "crashtest==0.3.1\n",
            "crcmod==1.7\n",
            "cufflinks==0.17.3\n",
            "cvxopt==1.3.0\n",
            "cvxpy==1.2.2\n",
            "cycler==0.11.0\n",
            "cymem==2.0.7\n",
            "Cython==0.29.32\n",
            "daft==0.0.4\n",
            "dask==2022.2.0\n",
            "datascience==0.17.5\n",
            "datasets==2.7.0\n",
            "db-dtypes==1.0.4\n",
            "debugpy==1.0.0\n",
            "decorator==4.4.2\n",
            "defusedxml==0.7.1\n",
            "descartes==1.1.0\n",
            "dill==0.3.6\n",
            "distributed==2022.2.0\n",
            "dlib==19.24.0\n",
            "dm-tree==0.1.7\n",
            "dnspython==2.2.1\n",
            "docutils==0.17.1\n",
            "dopamine-rl==1.0.5\n",
            "earthengine-api==0.1.330\n",
            "easydict==1.10\n",
            "ecos==2.0.10\n",
            "editdistance==0.5.3\n",
            "en-core-web-sm @ https://github.com/explosion/spacy-models/releases/download/en_core_web_sm-3.4.1/en_core_web_sm-3.4.1-py3-none-any.whl\n",
            "entrypoints==0.4\n",
            "ephem==4.1.3\n",
            "et-xmlfile==1.1.0\n",
            "etils==0.9.0\n",
            "etuples==0.3.8\n",
            "fa2==0.3.5\n",
            "fastai==2.7.10\n",
            "fastcore==1.5.27\n",
            "fastdownload==0.0.7\n",
            "fastdtw==0.3.4\n",
            "fastjsonschema==2.16.2\n",
            "fastprogress==1.0.3\n",
            "fastrlock==0.8.1\n",
            "feather-format==0.4.1\n",
            "filelock==3.8.0\n",
            "findspark==2.0.1\n",
            "firebase-admin==5.3.0\n",
            "fix-yahoo-finance==0.0.22\n",
            "Flask==1.1.4\n",
            "flatbuffers==1.12\n",
            "folium==0.12.1.post1\n",
            "frozenlist==1.3.3\n",
            "fsspec==2022.10.0\n",
            "future==0.16.0\n",
            "gast==0.4.0\n",
            "GDAL==2.2.2\n",
            "gdown==4.4.0\n",
            "gensim==3.6.0\n",
            "geographiclib==1.52\n",
            "geopy==1.17.0\n",
            "gin-config==0.5.0\n",
            "glob2==0.7\n",
            "google==2.0.3\n",
            "google-api-core==2.8.2\n",
            "google-api-python-client==1.12.11\n",
            "google-auth==2.14.1\n",
            "google-auth-httplib2==0.0.4\n",
            "google-auth-oauthlib==0.4.6\n",
            "google-cloud-bigquery==3.3.6\n",
            "google-cloud-bigquery-storage==2.16.2\n",
            "google-cloud-core==2.3.2\n",
            "google-cloud-datastore==2.9.0\n",
            "google-cloud-firestore==2.7.2\n",
            "google-cloud-language==2.6.1\n",
            "google-cloud-storage==2.5.0\n",
            "google-cloud-translate==3.8.4\n",
            "google-colab @ file:///colabtools/dist/google-colab-1.0.0.tar.gz\n",
            "google-crc32c==1.5.0\n",
            "google-pasta==0.2.0\n",
            "google-resumable-media==2.4.0\n",
            "googleapis-common-protos==1.56.4\n",
            "googledrivedownloader==0.4\n",
            "graphviz==0.10.1\n",
            "greenlet==2.0.1\n",
            "grpcio==1.50.0\n",
            "grpcio-status==1.48.2\n",
            "gspread==3.4.2\n",
            "gspread-dataframe==3.0.8\n",
            "gym==0.25.2\n",
            "gym-notices==0.0.8\n",
            "h5py==3.1.0\n",
            "HeapDict==1.0.1\n",
            "hijri-converter==2.2.4\n",
            "holidays==0.16\n",
            "holoviews==1.14.9\n",
            "html5lib==1.0.1\n",
            "httpimport==0.5.18\n",
            "httplib2==0.17.4\n",
            "httpstan==4.6.1\n",
            "huggingface-hub==0.11.0\n",
            "humanize==0.5.1\n",
            "hyperopt==0.1.2\n",
            "idna==2.10\n",
            "imageio==2.9.0\n",
            "imagesize==1.4.1\n",
            "imbalanced-learn==0.8.1\n",
            "imblearn==0.0\n",
            "imgaug==0.4.0\n",
            "importlib-metadata==4.13.0\n",
            "importlib-resources==5.10.0\n",
            "imutils==0.5.4\n",
            "inflect==2.1.0\n",
            "intel-openmp==2022.2.1\n",
            "intervaltree==2.1.0\n",
            "ipykernel==5.3.4\n",
            "ipython==7.9.0\n",
            "ipython-genutils==0.2.0\n",
            "ipython-sql==0.3.9\n",
            "ipywidgets==7.7.1\n",
            "itsdangerous==1.1.0\n",
            "jax==0.3.23\n",
            "jaxlib @ https://storage.googleapis.com/jax-releases/cuda11/jaxlib-0.3.22+cuda11.cudnn805-cp37-cp37m-manylinux2014_x86_64.whl\n",
            "jieba==0.42.1\n",
            "Jinja2==2.11.3\n",
            "joblib==1.2.0\n",
            "jpeg4py==0.1.4\n",
            "jsonschema==4.3.3\n",
            "jupyter-client==6.1.12\n",
            "jupyter-console==6.1.0\n",
            "jupyter-core==4.11.2\n",
            "jupyterlab-widgets==3.0.3\n",
            "kaggle==1.5.12\n",
            "kapre==0.3.7\n",
            "keras==2.9.0\n",
            "Keras-Preprocessing==1.1.2\n",
            "keras-vis==0.4.1\n",
            "kiwisolver==1.4.4\n",
            "korean-lunar-calendar==0.3.1\n",
            "langcodes==3.3.0\n",
            "libclang==14.0.6\n",
            "librosa==0.8.1\n",
            "lightgbm==2.2.3\n",
            "llvmlite==0.39.1\n",
            "lmdb==0.99\n",
            "locket==1.0.0\n",
            "logical-unification==0.4.5\n",
            "LunarCalendar==0.0.9\n",
            "lxml==4.9.1\n",
            "Markdown==3.4.1\n",
            "MarkupSafe==2.0.1\n",
            "marshmallow==3.18.0\n",
            "matplotlib==3.2.2\n",
            "matplotlib-venn==0.11.7\n",
            "miniKanren==1.0.3\n",
            "missingno==0.5.1\n",
            "mistune==0.8.4\n",
            "mizani==0.7.3\n",
            "mkl==2019.0\n",
            "mlxtend==0.14.0\n",
            "more-itertools==9.0.0\n",
            "moviepy==0.2.3.5\n",
            "mpmath==1.2.1\n",
            "msgpack==1.0.4\n",
            "multidict==6.0.2\n",
            "multipledispatch==0.6.0\n",
            "multiprocess==0.70.14\n",
            "multitasking==0.0.11\n",
            "murmurhash==1.0.9\n",
            "music21==5.5.0\n",
            "natsort==5.5.0\n",
            "nbconvert==5.6.1\n",
            "nbformat==5.7.0\n",
            "netCDF4==1.6.1\n",
            "networkx==2.6.3\n",
            "nibabel==3.0.2\n",
            "nltk==3.7\n",
            "notebook==5.7.16\n",
            "numba==0.56.4\n",
            "numexpr==2.8.4\n",
            "numpy==1.21.6\n",
            "oauth2client==4.1.3\n",
            "oauthlib==3.2.2\n",
            "okgrade==0.4.3\n",
            "opencv-contrib-python==4.6.0.66\n",
            "opencv-python==4.6.0.66\n",
            "opencv-python-headless==4.6.0.66\n",
            "openpyxl==3.0.10\n",
            "opt-einsum==3.3.0\n",
            "osqp==0.6.2.post0\n",
            "packaging==21.3\n",
            "palettable==3.3.0\n",
            "pandas==1.3.5\n",
            "pandas-datareader==0.9.0\n",
            "pandas-gbq==0.17.9\n",
            "pandas-profiling==1.4.1\n",
            "pandocfilters==1.5.0\n",
            "panel==0.12.1\n",
            "param==1.12.2\n",
            "parso==0.8.3\n",
            "partd==1.3.0\n",
            "pastel==0.2.1\n",
            "pathlib==1.0.1\n",
            "pathy==0.6.2\n",
            "patsy==0.5.3\n",
            "pep517==0.13.0\n",
            "pexpect==4.8.0\n",
            "pickleshare==0.7.5\n",
            "Pillow==7.1.2\n",
            "pip-tools==6.2.0\n",
            "plotly==5.5.0\n",
            "plotnine==0.8.0\n",
            "pluggy==0.7.1\n",
            "pooch==1.6.0\n",
            "portpicker==1.3.9\n",
            "prefetch-generator==1.0.1\n",
            "preshed==3.0.8\n",
            "prettytable==3.5.0\n",
            "progressbar2==3.38.0\n",
            "prometheus-client==0.15.0\n",
            "promise==2.3\n",
            "prompt-toolkit==2.0.10\n",
            "prophet==1.1.1\n",
            "proto-plus==1.22.1\n",
            "protobuf==3.19.6\n",
            "psutil==5.4.8\n",
            "psycopg2==2.9.5\n",
            "ptyprocess==0.7.0\n",
            "py==1.11.0\n",
            "py4j==0.10.9\n",
            "pyarrow==6.0.1\n",
            "pyasn1==0.4.8\n",
            "pyasn1-modules==0.2.8\n",
            "pycocotools==2.0.6\n",
            "pycparser==2.21\n",
            "pyct==0.4.8\n",
            "pydantic==1.10.2\n",
            "pydata-google-auth==1.4.0\n",
            "pydot==1.3.0\n",
            "pydot-ng==2.0.0\n",
            "pydotplus==2.0.2\n",
            "PyDrive==1.3.1\n",
            "pyemd==0.5.1\n",
            "pyerfa==2.0.0.1\n",
            "Pygments==2.6.1\n",
            "pygobject==3.26.1\n",
            "pylev==1.4.0\n",
            "pymc==4.1.4\n",
            "PyMeeus==0.5.11\n",
            "pymongo==4.3.2\n",
            "pymystem3==0.2.0\n",
            "PyOpenGL==3.1.6\n",
            "pyparsing==3.0.9\n",
            "pyrsistent==0.19.2\n",
            "pysimdjson==3.2.0\n",
            "pysndfile==1.3.8\n",
            "PySocks==1.7.1\n",
            "pyspark==3.0.0\n",
            "pystan==3.3.0\n",
            "pytest==3.6.4\n",
            "python-apt==0.0.0\n",
            "python-dateutil==2.8.2\n",
            "python-louvain==0.16\n",
            "python-slugify==6.1.2\n",
            "python-utils==3.4.5\n",
            "pytz==2022.6\n",
            "pyviz-comms==2.2.1\n",
            "PyWavelets==1.3.0\n",
            "PyYAML==6.0\n",
            "pyzmq==23.2.1\n",
            "qdldl==0.1.5.post2\n",
            "qudida==0.0.4\n",
            "regex==2022.6.2\n",
            "requests==2.23.0\n",
            "requests-oauthlib==1.3.1\n",
            "resampy==0.4.2\n",
            "responses==0.18.0\n",
            "rpy2==3.5.5\n",
            "rsa==4.9\n",
            "scikit-image==0.18.3\n",
            "scikit-learn==1.0.2\n",
            "scipy==1.7.3\n",
            "screen-resolution-extra==0.0.0\n",
            "scs==3.2.2\n",
            "seaborn==0.11.2\n",
            "Send2Trash==1.8.0\n",
            "setuptools-git==1.2\n",
            "Shapely==1.8.5.post1\n",
            "six==1.15.0\n",
            "sklearn-pandas==1.8.0\n",
            "smart-open==5.2.1\n",
            "snowballstemmer==2.2.0\n",
            "sortedcontainers==2.4.0\n",
            "soundfile==0.11.0\n",
            "spacy==3.4.2\n",
            "spacy-legacy==3.0.10\n",
            "spacy-loggers==1.0.3\n",
            "Sphinx==1.8.6\n",
            "sphinxcontrib-serializinghtml==1.1.5\n",
            "sphinxcontrib-websupport==1.2.4\n",
            "SQLAlchemy==1.4.43\n",
            "sqlparse==0.4.3\n",
            "srsly==2.4.5\n",
            "statsmodels==0.12.2\n",
            "sympy==1.7.1\n",
            "tables==3.7.0\n",
            "tabulate==0.8.10\n",
            "tblib==1.7.0\n",
            "tenacity==8.1.0\n",
            "tensorboard==2.9.1\n",
            "tensorboard-data-server==0.6.1\n",
            "tensorboard-plugin-wit==1.8.1\n",
            "tensorflow==2.9.2\n",
            "tensorflow-datasets==4.6.0\n",
            "tensorflow-estimator==2.9.0\n",
            "tensorflow-gcs-config==2.9.1\n",
            "tensorflow-hub==0.12.0\n",
            "tensorflow-io-gcs-filesystem==0.27.0\n",
            "tensorflow-metadata==1.10.0\n",
            "tensorflow-probability==0.17.0\n",
            "termcolor==2.1.0\n",
            "terminado==0.13.3\n",
            "testpath==0.6.0\n",
            "text-unidecode==1.3\n",
            "textblob==0.15.3\n",
            "thinc==8.1.5\n",
            "threadpoolctl==3.1.0\n",
            "tifffile==2021.11.2\n",
            "toml==0.10.2\n",
            "tomli==2.0.1\n",
            "toolz==0.12.0\n",
            "torch @ https://download.pytorch.org/whl/cu113/torch-1.12.1%2Bcu113-cp37-cp37m-linux_x86_64.whl\n",
            "torchaudio @ https://download.pytorch.org/whl/cu113/torchaudio-0.12.1%2Bcu113-cp37-cp37m-linux_x86_64.whl\n",
            "torchsummary==1.5.1\n",
            "torchtext==0.13.1\n",
            "torchvision @ https://download.pytorch.org/whl/cu113/torchvision-0.13.1%2Bcu113-cp37-cp37m-linux_x86_64.whl\n",
            "tornado==6.0.4\n",
            "tqdm==4.64.1\n",
            "traitlets==5.1.1\n",
            "tweepy==3.10.0\n",
            "typeguard==2.7.1\n",
            "typer==0.4.2\n",
            "typing-extensions==4.1.1\n",
            "tzlocal==1.5.1\n",
            "uritemplate==3.0.1\n",
            "urllib3==1.25.11\n",
            "vega-datasets==0.9.0\n",
            "wasabi==0.10.1\n",
            "wcwidth==0.2.5\n",
            "webargs==8.2.0\n",
            "webencodings==0.5.1\n",
            "Werkzeug==1.0.1\n",
            "widgetsnbextension==3.6.1\n",
            "wordcloud==1.8.2.2\n",
            "wrapt==1.14.1\n",
            "xarray==0.20.2\n",
            "xarray-einstats==0.2.2\n",
            "xgboost==0.90\n",
            "xkit==0.0.0\n",
            "xlrd==1.1.0\n",
            "xlwt==1.3.0\n",
            "xxhash==3.1.0\n",
            "yarl==1.8.1\n",
            "yellowbrick==1.5\n",
            "zict==2.2.0\n",
            "zipp==3.10.0\n"
          ]
        }
      ]
    },
    {
      "cell_type": "code",
      "source": [],
      "metadata": {
        "id": "Suyya2E_iSIf"
      },
      "execution_count": null,
      "outputs": []
    }
  ]
}