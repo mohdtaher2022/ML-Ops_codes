{
  "cells": [
    {
      "cell_type": "markdown",
      "source": [
        "## Synopsis\n",
        "\n",
        "The following Notebook contains an orchestration on ML pipelines using inbuilt Pyspark Pipeline Features. The Notebook provides a brief introduction on using ML Pipelines with Codes. ML Pipelines serves as one of the important pieces of ML-Ops Best practices, which reduces manual intervention within codes to a high extent and makes codes reproducible.\n",
        "\n",
        "### Dataset\n",
        "Dataset used in below example has been cloned from Kaggle platform, [link](https://www.kaggle.com/datasets/kamilpytlak/personal-key-indicators-of-heart-disease) \n",
        "Description: 2020 annual CDC survey data of 400k adults related to their health status, with context to having a heart disease. (Additional Information can be extracted from Kaggle Link).\n",
        "\n",
        "Scope of Notebook:\n",
        "\n",
        "1. **Pipelines**: Using Pipeline Feature on Pyspark Codes, using step Feature.\n",
        "(Steps like Categorical conversion, regex , Ordinal Mapping, dropping Col, Vectorization of Input Features etc..) \n\n",
        "2. **Model Experiments**: Automated Model Experiments (with Hypertuning) to result in the Best Model.\n",
        "\n",
        "Out of Scope:\n",
        "\n",
        "1. This Exercise aims to introduce to ML pipelines, additional prior steps like EDA, feature selection, outlier removal etc. hasn't been much focused upon.\n",
        "\n",
        "\n",
        "#### Data Versioning: (Hugging Face)\n",
        "`https://huggingface.co/datasets/mozay22/heart_disease/tree/main` \n",
        "\n",
        "#### Code Repo: (GitHub)\n",
        "`https://github.com/mohdtaher2022/ML_Ops_Practices` \n",
        "\n",
        "\n",
        "#### Pre-Requisites\n",
        "\n",
        "Python, SQL, PySpark, ML Lifecycle, Statistics\n",
        "\n",
        "Kindly Note: The Notebook has been executed on a remote server, change in  path referencing might be required in host server. Python packages are printed below to observe similar results executed in exercise.\n",
        "\n",
        "\n",
        "\n",
        "\n"
      ],
      "metadata": {
        "id": "J4XALyEaX9r0"
      }
    },
    {
      "cell_type": "markdown",
      "source": [
        "### Setting up Spark Infrastructure and Pre-requisite Libraries  "
      ],
      "metadata": {
        "id": "eA7iuxZB7bY8"
      }
    },
    {
      "cell_type": "code",
      "execution_count": null,
      "metadata": {
        "id": "YzctfiA5sgra"
      },
      "outputs": [],
      "source": [
        "%%capture\n",
        "!apt-get install openjdk-8-jdk"
      ]
    },
    {
      "cell_type": "code",
      "execution_count": null,
      "metadata": {
        "id": "U0J29tkrq0V_"
      },
      "outputs": [],
      "source": [
        "import os\n",
        "#Set the JAVA_HOME env variable\n",
        "os.environ[\"JAVA_HOME\"]=\"/usr/lib/jvm/java-8-openjdk-amd64\""
      ]
    },
    {
      "cell_type": "code",
      "execution_count": null,
      "metadata": {
        "id": "nY9tjzXZqc7L"
      },
      "outputs": [],
      "source": [
        "%%capture\n",
        "!echo $JAVA_HOME\n",
        "!pip install pyspark==3.0.0\n",
        "!pip install -q findspark\n",
        "!pip install datasets"
      ]
    },
    {
      "cell_type": "markdown",
      "source": [
        "### Importing Modules"
      ],
      "metadata": {
        "id": "niyjy0uA70Fk"
      }
    },
    {
      "cell_type": "code",
      "execution_count": null,
      "metadata": {
        "id": "JKNb99NtJhr-"
      },
      "outputs": [],
      "source": [
        "# 3. Start Spark Session\n",
        "import findspark\n",
        "findspark.init()\n",
        "\n",
        "#import the necessary dependencies\n",
        "import sys\n",
        "import os\n",
        "import operator\n",
        "import json\n",
        "\n",
        "# Importing Specific Dataset of Heart Disease\n",
        "from datasets import load_dataset\n",
        "\n",
        "\n",
        "# data wrangling\n",
        "import numpy as np\n",
        "import pandas as pd\n",
        "import pyspark\n",
        "from pyspark import SparkContext, SparkConf\n",
        "\n",
        "import pyspark.sql.types  as st\n",
        "import pyspark.sql.functions  as sf\n",
        "from pyspark.sql.functions import rand \n",
        "from pyspark.sql.window import Window\n",
        "from pyspark.sql import SparkSession\n",
        "from pyspark.sql import SparkSession, types as T, functions as F\n",
        "from pyspark.sql.functions import udf\n",
        "pd.options.display.html.table_schema = True\n",
        "\n",
        "# machine learning\n",
        "from pyspark.ml import Pipeline\n",
        "from pyspark.ml.pipeline import Transformer\n",
        "from pyspark.ml.classification import RandomForestClassifier, RandomForestClassificationModel , GBTClassifier \\\n",
        ", GBTClassificationModel, LogisticRegression, LogisticRegressionModel\n",
        "from pyspark.ml.feature import IndexToString, StringIndexer, VectorIndexer\n",
        "from pyspark.ml.evaluation import MulticlassClassificationEvaluator, BinaryClassificationEvaluator\n",
        "from pyspark.mllib.evaluation import MulticlassMetrics ,BinaryClassificationMetrics\n",
        "from pyspark.ml.feature import VectorAssembler\n",
        "from pyspark.ml.tuning import ParamGridBuilder, CrossValidator\n",
        "from pyspark.ml.stat import ChiSquareTest\n",
        "\n",
        "\n",
        "# Sklearn Model\n",
        "from sklearn.metrics import accuracy_score, classification_report, precision_score, recall_score, roc_auc_score\n",
        "from sklearn.metrics import *\n",
        "\n",
        "# Visuals\n",
        "import plotly.express as px\n",
        "\n",
        "# Ignore Warnings\n",
        "import warnings\n",
        "warnings.filterwarnings('ignore')\n",
        "\n",
        "# misc\n",
        "import math\n",
        "from operator import add\n",
        "from functools import reduce\n",
        "from datetime import datetime\n",
        "import operator\n",
        "import re\n",
        "import random\n",
        "\n",
        "# Dropping the display of Scientific Notations.\n",
        "# for pandas \n",
        "pd.set_option('display.float_format', lambda x: '%.3f' % x)\n",
        "# for Numpys\n",
        "np.set_printoptions(suppress=True,formatter={'float_kind':'{:16.3f}'.format}, linewidth=130)"
      ]
    },
    {
      "cell_type": "markdown",
      "metadata": {
        "id": "s_-tH14qNecq"
      },
      "source": [
        "### Dowloading Dataset"
      ]
    },
    {
      "cell_type": "code",
      "execution_count": null,
      "metadata": {
        "colab": {
          "base_uri": "https://localhost:8080/"
        },
        "id": "ZLlnee6nL_fs",
        "outputId": "9e92a868-0f3a-4e5b-9d58-0d96784cb0c1"
      },
      "outputs": [
        {
          "output_type": "stream",
          "name": "stdout",
          "text": [
            "Error: Failed to call git rev-parse --git-dir --show-toplevel: \"fatal: not a git repository (or any of the parent directories): .git\\n\"\n",
            "Git LFS initialized.\n",
            "fatal: destination path 'heart_disease' already exists and is not an empty directory.\n"
          ]
        }
      ],
      "source": [
        "# Cloning Data from Hugging Face.\n",
        "!git lfs install\n",
        "!git clone https://huggingface.co/datasets/mozay22/heart_disease"
      ]
    },
    {
      "cell_type": "code",
      "execution_count": null,
      "metadata": {
        "id": "k6lNn53UAg4p"
      },
      "outputs": [],
      "source": [
        "os.environ['dir'] = os.getcwd()  ; os.environ['repo'] = 'heart_disease' ;\n",
        "os.environ['file_1'] = 'train_df.zip'; os.environ['file_2'] = 'validation_df.zip' ;"
      ]
    },
    {
      "cell_type": "code",
      "execution_count": null,
      "metadata": {
        "id": "BCjNJhYeAO8d"
      },
      "outputs": [],
      "source": [
        "%%capture\n",
        "!unzip $dir/$repo/$file_1 -d output/"
      ]
    },
    {
      "cell_type": "markdown",
      "source": [
        "### Loading Code Modules from Git. "
      ],
      "metadata": {
        "id": "YY4U7GcFoqxc"
      }
    },
    {
      "cell_type": "code",
      "source": [
        "# Cloning modules from Github.\n",
        "!rm -rf ML_Ops_Practices/\n",
        "!git clone https://github.com/mohdtaher2022/ML_Ops_Practices.git"
      ],
      "metadata": {
        "colab": {
          "base_uri": "https://localhost:8080/"
        },
        "id": "70VrWW_JoqgU",
        "outputId": "c69a2534-d829-469e-e582-b7393788377e"
      },
      "execution_count": null,
      "outputs": [
        {
          "output_type": "stream",
          "name": "stdout",
          "text": [
            "Cloning into 'ML_Ops_Practices'...\n",
            "remote: Enumerating objects: 239, done.\u001b[K\n",
            "remote: Counting objects: 100% (21/21), done.\u001b[K\n",
            "remote: Compressing objects: 100% (21/21), done.\u001b[K\n",
            "remote: Total 239 (delta 5), reused 0 (delta 0), pack-reused 218\u001b[K\n",
            "Receiving objects: 100% (239/239), 22.22 MiB | 20.52 MiB/s, done.\n",
            "Resolving deltas: 100% (74/74), done.\n"
          ]
        }
      ]
    },
    {
      "cell_type": "markdown",
      "source": [
        "#### Loading all Modules in main environment. \n",
        "any module to be loaded within Pyspark Environment has to be loaded in the main Kernel Environment. "
      ],
      "metadata": {
        "id": "Ky5s-ozf8eQ4"
      }
    },
    {
      "cell_type": "code",
      "source": [
        "# Functions\n",
        "helper_func = open(os.path.join(os.getcwd(),'ML_Ops_Practices/Utilities/Functions/helper_functions.py')).read()\n",
        "pipeline_func = open(os.path.join(os.getcwd(),'ML_Ops_Practices/Utilities/Functions/pipeline_func.py')).read()\n",
        "retrain_n_validation = open(os.path.join(os.getcwd(),'ML_Ops_Practices/Utilities/Functions/retrain_n_validation.py')).read()\n",
        "# Configs\n",
        "feature_eng_configs = open(os.path.join(os.getcwd(),'ML_Ops_Practices/Utilities/Configs/feature_eng_config.py')).read()\n",
        "model_params = open(os.path.join(os.getcwd(),'ML_Ops_Practices/Utilities/Configs/model_params.py')).read()\n",
        "# Variables\n",
        "variables = open(os.path.join(os.getcwd(),'ML_Ops_Practices/Utilities/Variables/env_var.py')).read()\n",
        "\n",
        "# Environment Variables\n",
        "exec(variables) ;\n",
        "# Model_scores , train_test_split_spark, extract_prob_udf, input_features, sensivity_specificity\n",
        "exec(helper_func); exec(retrain_n_validation) ;  \n",
        "# one_hot_encoder_pipeline, ordinal_label_mapping_pipeline, extract_regex_expr_pipeline, drop_columns_pipeline, data_type_col\n",
        "exec(pipeline_func) ; \n",
        "# Model Parameters.\n",
        "exec(model_params) ; "
      ],
      "metadata": {
        "id": "O-2aTY_L0mP8"
      },
      "execution_count": null,
      "outputs": []
    },
    {
      "cell_type": "markdown",
      "metadata": {
        "id": "gL_JBykYNMId"
      },
      "source": [
        "#### (Aleternate Approach to Download Dataset File)\n",
        "Import Data using datasets library from Huggingface"
      ]
    },
    {
      "cell_type": "code",
      "execution_count": null,
      "metadata": {
        "id": "U1mlMs6gGw0s"
      },
      "outputs": [],
      "source": [
        "# dataset = load_dataset(\"mozay22/heart_disease\", data_files= \"heart_disease_diagnosis.csv\")\n",
        "# dataset_to_pandas = pd.DataFrame(dataset['train'])\n",
        "# print(\"Dimensions of Dataset: \", dataset_to_pandas.shape)"
      ]
    },
    {
      "cell_type": "markdown",
      "metadata": {
        "id": "TS0tr888NkAu"
      },
      "source": [
        "### Loading Spark Session, Spark Context & Dataframe"
      ]
    },
    {
      "cell_type": "code",
      "execution_count": null,
      "metadata": {
        "colab": {
          "base_uri": "https://localhost:8080/"
        },
        "id": "IhFkwlPSJa0n",
        "outputId": "32ae8011-d370-43a4-d6ca-d478ec532211"
      },
      "outputs": [
        {
          "output_type": "stream",
          "name": "stdout",
          "text": [
            "+------------+-----+-------+---------------+------+--------------+------------+-----------+------+-----------+-----+--------+----------------+---------+---------+------+-------------+----------+------------+\n",
            "|HeartDisease|  BMI|Smoking|AlcoholDrinking|Stroke|PhysicalHealth|MentalHealth|DiffWalking|   Sex|AgeCategory| Race|Diabetic|PhysicalActivity|GenHealth|SleepTime|Asthma|KidneyDisease|SkinCancer|capture_date|\n",
            "+------------+-----+-------+---------------+------+--------------+------------+-----------+------+-----------+-----+--------+----------------+---------+---------+------+-------------+----------+------------+\n",
            "|          No|32.12|    Yes|             No|    No|           0.0|         0.0|        Yes|Female|80 or older|White|      No|              No|     Good|      9.0|    No|           No|       Yes|  2020-01-01|\n",
            "|          No|28.25|     No|             No|    No|           0.0|        14.0|         No|Female|      60-64|White|      No|             Yes|Very good|      6.0|    No|           No|        No|  2020-01-01|\n",
            "|          No|28.37|     No|             No|    No|           0.0|         0.0|         No|  Male|      55-59|White|      No|             Yes|     Good|      6.0|    No|           No|        No|  2020-01-01|\n",
            "|          No|24.39|     No|             No|    No|           0.0|         0.0|         No|  Male|      75-79|White|      No|             Yes|Excellent|      4.0|    No|           No|       Yes|  2020-01-01|\n",
            "|          No|20.36|     No|             No|    No|           0.0|         0.0|         No|Female|      50-54|White|      No|             Yes|Excellent|      8.0|    No|           No|        No|  2020-01-01|\n",
            "+------------+-----+-------+---------------+------+--------------+------------+-----------+------+-----------+-----+--------+----------------+---------+---------+------+-------------+----------+------------+\n",
            "only showing top 5 rows\n",
            "\n"
          ]
        }
      ],
      "source": [
        "# Building App using Spark Session\n",
        "spark = SparkSession.builder \\\n",
        "    .master('local[*]') \\\n",
        "    .config(\"spark.driver.memory\", \"20g\") \\\n",
        "    .appName('my-cool-app') \\\n",
        "    .getOrCreate()\n",
        "sc=spark.sparkContext\n",
        "# Configuring the job to distributed among 5 nodes\n",
        "spark.conf.set(\"spark.sql.shuffle.partitions\", \"5\")\n",
        "\n",
        "# To read from Local File\n",
        "load_path = os.path.join(os.getcwd(),\"output/content/train_df.parquet\")\n",
        "df = spark.read.parquet(load_path)\n",
        "df.show(5)"
      ]
    },
    {
      "cell_type": "code",
      "execution_count": null,
      "metadata": {
        "colab": {
          "base_uri": "https://localhost:8080/"
        },
        "id": "rG4ONw9fENGv",
        "outputId": "aef681ae-9b8f-4575-ab4b-34558cca7603"
      },
      "outputs": [
        {
          "output_type": "execute_result",
          "data": {
            "text/plain": [
              "(199728, 19)"
            ]
          },
          "metadata": {},
          "execution_count": 12
        }
      ],
      "source": [
        "# Data Shape\n",
        "df.shape()"
      ]
    },
    {
      "cell_type": "markdown",
      "metadata": {
        "id": "0MMKXPwIRdNt"
      },
      "source": [
        "### Evaluating Data Types \n",
        "Identifying Data columns if they are incorrectly mapped and changing the data types."
      ]
    },
    {
      "cell_type": "code",
      "execution_count": null,
      "metadata": {
        "colab": {
          "base_uri": "https://localhost:8080/"
        },
        "id": "nJREam2URwc4",
        "outputId": "4313e864-e453-4fc2-df1f-3f95f509d58e"
      },
      "outputs": [
        {
          "output_type": "execute_result",
          "data": {
            "text/plain": [
              "[('HeartDisease', 'string'),\n",
              " ('BMI', 'double'),\n",
              " ('Smoking', 'string'),\n",
              " ('AlcoholDrinking', 'string'),\n",
              " ('Stroke', 'string'),\n",
              " ('PhysicalHealth', 'double'),\n",
              " ('MentalHealth', 'double'),\n",
              " ('DiffWalking', 'string'),\n",
              " ('Sex', 'string'),\n",
              " ('AgeCategory', 'string'),\n",
              " ('Race', 'string'),\n",
              " ('Diabetic', 'string'),\n",
              " ('PhysicalActivity', 'string'),\n",
              " ('GenHealth', 'string'),\n",
              " ('SleepTime', 'double'),\n",
              " ('Asthma', 'string'),\n",
              " ('KidneyDisease', 'string'),\n",
              " ('SkinCancer', 'string'),\n",
              " ('capture_date', 'date')]"
            ]
          },
          "metadata": {},
          "execution_count": 13
        }
      ],
      "source": [
        "# Checking the Datatypes\n",
        "(df.dtypes)"
      ]
    },
    {
      "cell_type": "markdown",
      "metadata": {
        "id": "3iyuxeeALyvy"
      },
      "source": [
        "### Evaluating Categorical Data Health\n",
        "\n",
        "Viewing the categorical to draw conclusion on its treatment."
      ]
    },
    {
      "cell_type": "code",
      "execution_count": null,
      "metadata": {
        "colab": {
          "base_uri": "https://localhost:8080/"
        },
        "id": "Sb1Y92CiUjnP",
        "outputId": "5484d03b-7c67-4dcc-e566-e2487640fe21"
      },
      "outputs": [
        {
          "output_type": "stream",
          "name": "stdout",
          "text": [
            "HeartDisease ['Yes', 'No']\n",
            "Smoking ['Yes', 'No']\n",
            "AlcoholDrinking ['Yes', 'No']\n",
            "Stroke ['Yes', 'No']\n",
            "DiffWalking ['Yes', 'No']\n",
            "Sex ['Female', 'Male']\n",
            "AgeCategory ['50-54', '70-74', '18-24', '40-44', '45-49', '65-69', '25-29', '35-39', '30-34', '55-59', '80 or older', '60-64', '75-79']\n",
            "Race ['Black', 'Hispanic', 'White', 'Other', 'American Indian/Alaskan Native', 'Asian']\n",
            "Diabetic ['No, borderline diabetes', 'Yes', 'Yes (during pregnancy)', 'No']\n",
            "PhysicalActivity ['Yes', 'No']\n",
            "GenHealth ['Good', 'Fair', 'Very good', 'Excellent', 'Poor']\n",
            "Asthma ['Yes', 'No']\n",
            "KidneyDisease ['Yes', 'No']\n",
            "SkinCancer ['Yes', 'No']\n"
          ]
        }
      ],
      "source": [
        "# Extract string Columns details\n",
        "string_cols = data_type_col(df = df)\n",
        "\n",
        "#  To see if there are infilteration within the dataframe for categorical features\n",
        "col_details = {}\n",
        "for col in string_cols:\n",
        "  types = df.select(col).distinct().rdd.flatMap(lambda x: x).collect()\n",
        "  col_details[col] = types\n",
        "\n",
        "# Checking Anolmalies: (Col Names, Categories)\n",
        "for col in (col_details):\n",
        "  print(col, col_details[col])"
      ]
    },
    {
      "cell_type": "markdown",
      "source": [
        "#### Binary Category features."
      ],
      "metadata": {
        "id": "KndcGhyK9v9Q"
      }
    },
    {
      "cell_type": "code",
      "execution_count": null,
      "metadata": {
        "colab": {
          "base_uri": "https://localhost:8080/"
        },
        "id": "rEKqiQ50cXlQ",
        "outputId": "640a4807-d64a-4319-f94d-97a891488131"
      },
      "outputs": [
        {
          "output_type": "stream",
          "name": "stdout",
          "text": [
            "['HeartDisease', 'Smoking', 'AlcoholDrinking', 'Stroke', 'DiffWalking', 'Sex', 'PhysicalActivity', 'Asthma', 'KidneyDisease', 'SkinCancer']\n"
          ]
        }
      ],
      "source": [
        "# Segregation of two categories features.\n",
        "# Set up one Hot Encoder for 2 Categories\n",
        "two_categories = []\n",
        "for _col_ in col_details:\n",
        "  if len(col_details[_col_]) == 2:\n",
        "    two_categories.append(_col_)\n",
        "print(two_categories)"
      ]
    },
    {
      "cell_type": "markdown",
      "metadata": {
        "id": "wG_0nAKIS6jf"
      },
      "source": [
        "### Feature Engineering Pipeline Steps.\n",
        "\n",
        "* Step 1: One Hot Encoding for Binary Variables.\n",
        "* Step 2: One Hot Encoding for muti-Class Variables.\n",
        "* Step 3: Ordinal Mapping to categorical Variable using Mapping definition.\n",
        "* Step 4: Apply Regex condition to extract Number from text.\n",
        "* Step 5: Drop Unnecessary columns.\n",
        "* Step 6: Create Vector based on input features."
      ]
    },
    {
      "cell_type": "code",
      "execution_count": null,
      "metadata": {
        "id": "ik008XZcTHHZ"
      },
      "outputs": [],
      "source": [
        "# Listing Two categories\n",
        "two_categories = ['HeartDisease', 'Smoking', 'AlcoholDrinking', 'Stroke', 'DiffWalking', \n",
        "                  'Sex', 'PhysicalActivity', 'Asthma', 'KidneyDisease', 'SkinCancer']\n",
        "\n",
        "# Mapping only Yes Category in Encoding for Heart Disease and other \n",
        "binary_indicator =  {'HeartDisease': ['No'], \n",
        "                    'Smoking': ['No'],            \n",
        "                 'AlcoholDrinking': ['No'],\n",
        "                 'Stroke':['No'],\n",
        "                'PhysicalHealth': ['No'],\n",
        "                 'MentalHealth': ['No'],\n",
        "                 'DiffWalking' : ['No'], \n",
        "                 'Sex': ['Male'],\n",
        "                 'PhysicalActivity': ['No'],\n",
        "                 'Asthma' :  ['No'],\n",
        "                 'KidneyDisease' :['No'],\n",
        "                 'SkinCancer': ['No']}\n",
        "\n",
        "#  Setup Ordinal Piece\n",
        "# Numerical Mapping to Categorical columns\n",
        "ordinal_dict = {\"GenHealth\": {'Excellent': 5.0,'Very good': 4.5,\n",
        "                              'Good': 4,'Fair': 3,'Poor': 2},\n",
        "                'Diabetic' : { 'No, borderline diabetes': 1 , 'No': 0, 'Yes': 3} }\n",
        "\n",
        "# Pipeline Steps\n",
        "# excluding categories from One Hot Encoding \n",
        "excludng_categories = {'Diabetic' :  ['No, borderline diabetes', 'No', 'Yes'],\n",
        "                       'Race': ['Other']}\n",
        "\n",
        "# Step 1 : One Hot encoding for two level categories Yes or No's\n",
        "step_1_one_hot_enc=  one_hot_encoder_pipeline(col_list = two_categories, exclude_cat = binary_indicator, drop_cols = two_categories,\n",
        "                                              drop_orignal =True,drop_last_col= True)\n",
        "# Step 2 : One Hot Encoding for Female who are diabetice during Pregnancy, as it is non comparable to Normal Diabetic condtions.  \n",
        "# Excluding Others from Race as it's not interpretable from Business Perspective.\n",
        "step_2_diabetic_enc_pregnancy = one_hot_encoder_pipeline(col_list = ['Diabetic', 'Race'],exclude_cat = excludng_categories,\n",
        "                                                         drop_orignal =True, drop_cols = ['Race'], drop_last_col= False)\n",
        "# Ordinal Mapping (for Genhealth Diabetics)\n",
        "step_3_ordinal_mapping = ordinal_label_mapping_pipeline(mapping_ = ordinal_dict, drop_orignal =True,\n",
        "                                                        replace_na = True, replace_na_val = 0)\n",
        "\n",
        "# Step 4 Regex Expresion, to Extract out  first characters from the age categorical binning column\n",
        "exp_ = '^.{0,2}'\n",
        "step_4_regex = extract_regex_expr_pipeline(cols_ = ['AgeCategory'] , expr = exp_, first_value = True)\n",
        "\n",
        "# Step 5  Dropping unessary Columns. \n",
        "step_5_drop_columns = drop_columns_pipeline( cols = ['capture_date'])\n",
        "\n",
        "\n",
        "# Create model input Feature vector\n",
        "exc_cols = ['HeartDisease_Yes', 'capture_date']\n",
        "create_feature_pipeline = create_features_and_transform_pipeline(exc_cols = exc_cols)"
      ]
    },
    {
      "cell_type": "markdown",
      "source": [
        "#### Feature Engineering Pipeline Execution"
      ],
      "metadata": {
        "id": "TT1nXOvuHupH"
      }
    },
    {
      "cell_type": "code",
      "source": [
        "# Pipeline Execution for Feature Engineering Steps\n",
        "Feature_eng_Pipeline =  Pipeline(stages=[step_1_one_hot_enc, step_2_diabetic_enc_pregnancy, \n",
        "                                     step_3_ordinal_mapping, step_4_regex, step_5_drop_columns,create_feature_pipeline])\n",
        "Featpip = Feature_eng_Pipeline.fit(df)\n",
        "df_transform = Featpip.transform(df)"
      ],
      "metadata": {
        "id": "iF-b6pTxHvF9"
      },
      "execution_count": null,
      "outputs": []
    },
    {
      "cell_type": "markdown",
      "metadata": {
        "id": "SMHD7AbOyno_"
      },
      "source": [
        "#### Comparing Both Data Frames"
      ]
    },
    {
      "cell_type": "code",
      "execution_count": null,
      "metadata": {
        "colab": {
          "base_uri": "https://localhost:8080/"
        },
        "id": "4XDcUMzTb3bl",
        "outputId": "29719db6-9f43-4fdc-9c1d-8ec81a8feecc"
      },
      "outputs": [
        {
          "output_type": "stream",
          "name": "stdout",
          "text": [
            "\n",
            "+------------+-----+-------+---------------+------+--------------+------------+-----------+------+-----------+-----+--------+----------------+---------+---------+------+-------------+----------+------------+\n",
            "|HeartDisease|  BMI|Smoking|AlcoholDrinking|Stroke|PhysicalHealth|MentalHealth|DiffWalking|   Sex|AgeCategory| Race|Diabetic|PhysicalActivity|GenHealth|SleepTime|Asthma|KidneyDisease|SkinCancer|capture_date|\n",
            "+------------+-----+-------+---------------+------+--------------+------------+-----------+------+-----------+-----+--------+----------------+---------+---------+------+-------------+----------+------------+\n",
            "|          No|32.12|    Yes|             No|    No|           0.0|         0.0|        Yes|Female|80 or older|White|      No|              No|     Good|      9.0|    No|           No|       Yes|  2020-01-01|\n",
            "|          No|28.25|     No|             No|    No|           0.0|        14.0|         No|Female|      60-64|White|      No|             Yes|Very good|      6.0|    No|           No|        No|  2020-01-01|\n",
            "|          No|28.37|     No|             No|    No|           0.0|         0.0|         No|  Male|      55-59|White|      No|             Yes|     Good|      6.0|    No|           No|        No|  2020-01-01|\n",
            "+------------+-----+-------+---------------+------+--------------+------------+-----------+------+-----------+-----+--------+----------------+---------+---------+------+-------------+----------+------------+\n",
            "only showing top 3 rows\n",
            "\n",
            "+-----+--------------+------------+---------+----------------+-----------+-------------------+----------+---------------+----------+--------------------+----------+-----------------+--------------+-----------------------------+----------------------------------+----------+----------+-------------+----------+---------------------+--------------------+-----------------------+--------------------+\n",
            "|  BMI|PhysicalHealth|MentalHealth|SleepTime|HeartDisease_Yes|Smoking_Yes|AlcoholDrinking_Yes|Stroke_Yes|DiffWalking_Yes|Sex_Female|PhysicalActivity_Yes|Asthma_Yes|KidneyDisease_Yes|SkinCancer_Yes|Diabetic_Yes_during_pregnancy|Race_American_IndianAlaskan_Native|Race_Asian|Race_Black|Race_Hispanic|Race_White|GenHealth_transformed|Diabetic_transformed|AgeCategory_transformed|            features|\n",
            "+-----+--------------+------------+---------+----------------+-----------+-------------------+----------+---------------+----------+--------------------+----------+-----------------+--------------+-----------------------------+----------------------------------+----------+----------+-------------+----------+---------------------+--------------------+-----------------------+--------------------+\n",
            "|32.12|           0.0|         0.0|      9.0|               0|          1|                  0|         0|              1|         1|                   0|         0|                0|             1|                            0|                                 0|         0|         0|            0|         1|                  4.0|                 0.0|                   80.0|(22,[0,3,4,7,8,12...|\n",
            "|28.25|           0.0|        14.0|      6.0|               0|          0|                  0|         0|              0|         1|                   1|         0|                0|             0|                            0|                                 0|         0|         0|            0|         1|                  4.5|                 0.0|                   60.0|(22,[0,2,3,8,9,18...|\n",
            "|28.37|           0.0|         0.0|      6.0|               0|          0|                  0|         0|              0|         0|                   1|         0|                0|             0|                            0|                                 0|         0|         0|            0|         1|                  4.0|                 0.0|                   55.0|(22,[0,3,9,18,19,...|\n",
            "+-----+--------------+------------+---------+----------------+-----------+-------------------+----------+---------------+----------+--------------------+----------+-----------------+--------------+-----------------------------+----------------------------------+----------+----------+-------------+----------+---------------------+--------------------+-----------------------+--------------------+\n",
            "only showing top 3 rows\n",
            "\n"
          ]
        }
      ],
      "source": [
        "print('---------------------------------------------------Original DF---------------------------------------------------')\n",
        "df.show(3)\n",
        "print('---------------------------------------------------Transformed DF---------------------------------------------------')\n",
        "df_transform.show(3)"
      ]
    },
    {
      "cell_type": "code",
      "execution_count": null,
      "metadata": {
        "colab": {
          "base_uri": "https://localhost:8080/"
        },
        "id": "JVB8l8QxqqmG",
        "outputId": "d2492abc-a3f4-463b-924b-12b3c4cfa5c6"
      },
      "outputs": [
        {
          "output_type": "execute_result",
          "data": {
            "text/plain": [
              "[('BMI', 'double'),\n",
              " ('PhysicalHealth', 'double'),\n",
              " ('MentalHealth', 'double'),\n",
              " ('SleepTime', 'double'),\n",
              " ('HeartDisease_Yes', 'int'),\n",
              " ('Smoking_Yes', 'int'),\n",
              " ('AlcoholDrinking_Yes', 'int'),\n",
              " ('Stroke_Yes', 'int'),\n",
              " ('DiffWalking_Yes', 'int'),\n",
              " ('Sex_Female', 'int'),\n",
              " ('PhysicalActivity_Yes', 'int'),\n",
              " ('Asthma_Yes', 'int'),\n",
              " ('KidneyDisease_Yes', 'int'),\n",
              " ('SkinCancer_Yes', 'int'),\n",
              " ('Diabetic_Yes_during_pregnancy', 'int'),\n",
              " ('Race_American_IndianAlaskan_Native', 'int'),\n",
              " ('Race_Asian', 'int'),\n",
              " ('Race_Black', 'int'),\n",
              " ('Race_Hispanic', 'int'),\n",
              " ('Race_White', 'int'),\n",
              " ('GenHealth_transformed', 'float'),\n",
              " ('Diabetic_transformed', 'float'),\n",
              " ('AgeCategory_transformed', 'float'),\n",
              " ('features', 'vector')]"
            ]
          },
          "metadata": {},
          "execution_count": 19
        }
      ],
      "source": [
        "# Checking Data types again on tranformed DF\n",
        "df_transform.dtypes"
      ]
    },
    {
      "cell_type": "code",
      "execution_count": null,
      "metadata": {
        "colab": {
          "base_uri": "https://localhost:8080/"
        },
        "id": "2HuCwv9G1VkW",
        "outputId": "be1ac166-31ae-4f78-a1dc-361820c094e4"
      },
      "outputs": [
        {
          "output_type": "stream",
          "name": "stdout",
          "text": [
            "+----------------+--------------+\n",
            "|HeartDisease_Yes|category_count|\n",
            "+----------------+--------------+\n",
            "|               0|        182592|\n",
            "|               1|         17136|\n",
            "+----------------+--------------+\n",
            "\n"
          ]
        }
      ],
      "source": [
        "# Observing Target Variable Distribution\n",
        "df_transform.groupBy('HeartDisease_Yes').agg(F.count('HeartDisease_Yes').alias('category_count')).show()"
      ]
    },
    {
      "cell_type": "code",
      "execution_count": null,
      "metadata": {
        "id": "_PbsF9sXiKdr"
      },
      "outputs": [],
      "source": [
        "# Splitting Data in Train and Test\n",
        "# Purpose of adding repartition col is to make sure there is consistency in split of train and test data. \n",
        "train_, test_ =  train_test_split_spark(df = df_transform, train_split = 0.5, test_split = 0.5,\n",
        "                                        dep_var = 'HeartDisease_Yes',\n",
        "                                        repartition_col = 'BMI') # Preferred to be most unique column in dataframe like primary key identifier. \n",
        "                                                                # (Using BMI for reference as there are no unque key identfiers in Dataframe. )"
      ]
    },
    {
      "cell_type": "markdown",
      "source": [
        "#### Saving Test Data for Monitoring.\n"
      ],
      "metadata": {
        "id": "wEGlxKc9IJzg"
      }
    },
    {
      "cell_type": "code",
      "source": [
        "%%capture\n",
        "test_.drop(*['features']).repartition(1).write.format(\"parquet\").mode(\"append\").save(\"test_df.parquet\")\n",
        "# Zipping Data\n",
        "!zip -r test_df.zip /content/test_df.parquet"
      ],
      "metadata": {
        "id": "CMFVowxQj30m"
      },
      "execution_count": null,
      "outputs": []
    },
    {
      "cell_type": "markdown",
      "source": [
        "### Model Experiments. \n",
        "\n",
        "As Save Model == True all best trained Model of each model cateogry will be saved based on training Configs `train_config`."
      ],
      "metadata": {
        "id": "HTVLIopLlFVX"
      }
    },
    {
      "cell_type": "code",
      "execution_count": null,
      "metadata": {
        "id": "L00WXtId-4Lo",
        "colab": {
          "base_uri": "https://localhost:8080/"
        },
        "outputId": "a0f1cded-d99d-4c6f-91ef-3dce4bcceb33"
      },
      "outputs": [
        {
          "output_type": "stream",
          "name": "stdout",
          "text": [
            "Iter Model : GBTClassifier\n",
            "Iter Model : LogisticRegression\n"
          ]
        }
      ],
      "source": [
        "# Model Scores\n",
        "label_dictionary_ = {0.0: \"Heart Disease No\", 1.0: \"Heart Disease Yes\"}\n",
        "# GBTClassifier, RandomForestClassifier, LogisticRegression\n",
        "model_list_= [GBTClassifier,LogisticRegression]\n",
        "\n",
        "\n",
        "model_experiment = Binary_model_Experiment( model_list = model_list_ ,train_df = train_,test_df =  test_,\n",
        "                                           y_label =  'HeartDisease_Yes',input_feature = 'features' , \n",
        "                                          configs_ = train_config, label_dictionary = label_dictionary_, \n",
        "                                          save_model = True, model_location =  os.path.join(os.getcwd(),'saved_models'))"
      ]
    },
    {
      "cell_type": "markdown",
      "source": [
        "### Experiments Results"
      ],
      "metadata": {
        "id": "hrY9e1Qzx5kR"
      }
    },
    {
      "cell_type": "code",
      "source": [
        "model_experiment['train_results'].show()"
      ],
      "metadata": {
        "colab": {
          "base_uri": "https://localhost:8080/"
        },
        "id": "oLRk-qlHoxIj",
        "outputId": "c1918a76-8084-4d4e-b87f-dc387662e9e9"
      },
      "execution_count": null,
      "outputs": [
        {
          "output_type": "stream",
          "name": "stdout",
          "text": [
            "+-------------+-----------------+--------------------+------------+-------------------+--------------------+\n",
            "|Model_version|   Label_category|         Metric_name|capture_date|      GBTClassifier|  LogisticRegression|\n",
            "+-------------+-----------------+--------------------+------------+-------------------+--------------------+\n",
            "|            1| Weighted_Overall|            Accuracy|  2022-11-15| 0.9098583056979198|  0.9157170133654909|\n",
            "|            1| Weighted_Overall|Weighted F(0.5) S...|  2022-11-15|  0.878837398705619|  0.8629843650069577|\n",
            "|            1| Heart Disease No|              recall|  2022-11-15| 0.9832624487597947|   0.998648247667403|\n",
            "|            1|Heart Disease Yes|          F1 Measure|  2022-11-15| 0.1926192619261926|0.056898684358484206|\n",
            "|            1| Heart Disease No|          F1 Measure|  2022-11-15| 0.9522643818849449|  0.9558873805403756|\n",
            "|            1| Weighted_Overall|     Weighted recall|  2022-11-15| 0.9098583056979198|  0.9157170133654909|\n",
            "|            1| Weighted_Overall|Weighted false po...|  2022-11-15|  0.800964766178468|  0.8873634704063187|\n",
            "|            1|Heart Disease Yes|           precision|  2022-11-15|0.41264944080215965|  0.6728723404255319|\n",
            "|            1| Weighted_Overall|              avg_pr|  2022-11-15| 0.2843973323760957|  0.3349571242531368|\n",
            "|            1|Heart Disease Yes|              recall|  2022-11-15|0.12563109075965714|0.029705295291769403|\n",
            "|            1| Weighted_Overall|  Weighted precision|  2022-11-15| 0.8794666786805494|  0.8957743248589825|\n",
            "|            1| Heart Disease No|           precision|  2022-11-15| 0.9231610553360091|  0.9166380858232291|\n",
            "|            1| Weighted_Overall| Weighted F(1) Score|  2022-11-15| 0.8872468209695726|  0.8789434882141655|\n",
            "|            1| Weighted_Overall|             roc_auc|  2022-11-15| 0.8140810185656429|  0.8318491969096977|\n",
            "+-------------+-----------------+--------------------+------------+-------------------+--------------------+\n",
            "\n"
          ]
        }
      ]
    },
    {
      "cell_type": "markdown",
      "source": [
        "### Insights\n",
        "\n",
        "It is evident from the experiments results that `Logistic regression` has performed better compared to GBTClassifier, as it has performed optimum at following points: `avg PR curve area` & `AUC ROC curve`. "
      ],
      "metadata": {
        "id": "M9QmVUQQk6R6"
      }
    },
    {
      "cell_type": "markdown",
      "source": [
        "#### Saving Models"
      ],
      "metadata": {
        "id": "Gr7nxgByqxGo"
      }
    },
    {
      "cell_type": "code",
      "source": [
        "%%capture\n",
        "# This Model will be passed to the Repo under model artifacts.\n",
        "!zip -r saved_models_1.zip /content/saved_models\n",
        "from google.colab import files\n",
        "files.download('saved_models_1.zip')"
      ],
      "metadata": {
        "id": "pYW49A00q8Wc"
      },
      "execution_count": null,
      "outputs": []
    },
    {
      "cell_type": "markdown",
      "source": [
        "#### Loading Saved Model within Environment\n",
        "(The trained models are saved to repo location and are loaded from there) "
      ],
      "metadata": {
        "id": "ODuQ2h7v8FJB"
      }
    },
    {
      "cell_type": "code",
      "source": [
        "%%capture\n",
        "os.environ['model_path'] = 'ML_Ops_Practices/Models'\n",
        "os.environ['model_file'] = 'saved_models_1.zip'\n",
        "!unzip $dir/$model_path/$model_file -d output/"
      ],
      "metadata": {
        "id": "CFdfOzcu5rKj"
      },
      "execution_count": null,
      "outputs": []
    },
    {
      "cell_type": "markdown",
      "source": [
        "### Selecting Model Threshold (Cut-off)\n",
        "\n",
        "Observing the Precision Recall Curve and locking model Cut-off for production"
      ],
      "metadata": {
        "id": "Qy9TOf57gXC7"
      }
    },
    {
      "cell_type": "code",
      "source": [
        "recall_pr_dict = recall_precision_selection(model_ = 'LogisticRegression', \n",
        "                                            model_location = os.path.join(os.getcwd(),'output/content/saved_models'),\n",
        "                                            df = test_ , return_graph = True, select_metric = 'precision',\n",
        "                                            threshold = 0.4, print_cut_off = True)"
      ],
      "metadata": {
        "colab": {
          "base_uri": "https://localhost:8080/",
          "height": 435
        },
        "id": "p279pu7xcaS1",
        "outputId": "27afe569-0b3d-4797-a040-fa6f0cd73877"
      },
      "execution_count": null,
      "outputs": [
        {
          "output_type": "stream",
          "name": "stdout",
          "text": [
            "To attain  precision  0.4  the LogisticRegression Model threshold cut-off has to be set to  0.22\n"
          ]
        },
        {
          "output_type": "display_data",
          "data": {
            "text/html": [
              "<html>\n",
              "<head><meta charset=\"utf-8\" /></head>\n",
              "<body>\n",
              "    <div>            <script src=\"https://cdnjs.cloudflare.com/ajax/libs/mathjax/2.7.5/MathJax.js?config=TeX-AMS-MML_SVG\"></script><script type=\"text/javascript\">if (window.MathJax) {MathJax.Hub.Config({SVG: {font: \"STIX-Web\"}});}</script>                <script type=\"text/javascript\">window.PlotlyConfig = {MathJaxConfig: 'local'};</script>\n",
              "        <script src=\"https://cdn.plot.ly/plotly-2.8.3.min.js\"></script>                <div id=\"06d06c46-bad1-4362-8bab-fb40ebc9945b\" class=\"plotly-graph-div\" style=\"height:400px; width:600px;\"></div>            <script type=\"text/javascript\">                                    window.PLOTLYENV=window.PLOTLYENV || {};                                    if (document.getElementById(\"06d06c46-bad1-4362-8bab-fb40ebc9945b\")) {                    Plotly.newPlot(                        \"06d06c46-bad1-4362-8bab-fb40ebc9945b\",                        [{\"hovertemplate\":\"variable=Sensitivity<br>Cut-Off=%{x}<br>value=%{y}<extra></extra>\",\"legendgroup\":\"Sensitivity\",\"line\":{\"color\":\"#636efa\",\"dash\":\"solid\"},\"marker\":{\"symbol\":\"circle\"},\"mode\":\"lines\",\"name\":\"Sensitivity\",\"orientation\":\"v\",\"showlegend\":true,\"x\":[0.0,0.01,0.02,0.03,0.04,0.05,0.06,0.07,0.08,0.09,0.1,0.11,0.12,0.13,0.14,0.15,0.16,0.17,0.18,0.19,0.2,0.21,0.22,0.23,0.24,0.25,0.26,0.27,0.28,0.29,0.3,0.31,0.32,0.33,0.34,0.35,0.36,0.37,0.38,0.39,0.4,0.41,0.42,0.43,0.44,0.45,0.46,0.47,0.48,0.49,0.5,0.51,0.52,0.53,0.54,0.55,0.56,0.57,0.58,0.59,0.6,0.61,0.62,0.63,0.64,0.65,0.66,0.67,0.68,0.69,0.7,0.71,0.72,0.73,0.74,0.75,0.76,0.77,0.78,0.79,0.8,0.81,0.82,0.83,0.84,0.85,0.86,0.87,0.88,0.89,0.9,0.91,0.92,0.93,0.94,0.95,0.96,0.97,0.98,0.99,1.0],\"xaxis\":\"x\",\"y\":[1.0,1.0,1.0,0.9956557473288716,0.9832100504872607,0.9651285663966185,0.9287307737466244,0.874251497005988,0.810379241516966,0.7419279088881061,0.682752142773277,0.6253375601737701,0.5782552541974874,0.5308207115181401,0.4923094986497593,0.45696841610895855,0.4258541740049313,0.396735939884936,0.3694963015146178,0.3403780673946225,0.31677820828930375,0.2964658917459199,0.27474462839027824,0.25501937301866856,0.23764236233415523,0.21815193143125514,0.20300575319948339,0.18762475049900199,0.17564870259481039,0.16308559351884466,0.15404485147352354,0.14359516261594457,0.13514148174239757,0.12445696841610895,0.11588587530820711,0.10872372901256311,0.10109193377949982,0.0932253140777269,0.08665022895385699,0.07831396031466478,0.0718562874251497,0.06657273687918282,0.06034988845837736,0.054361864506281554,0.05025243630386286,0.047082305976282726,0.04379476341434777,0.040507220852412824,0.037454502759187505,0.033697311259833274,0.029705295291769403,0.02641775272983445,0.023717271339673593,0.021134202183867558,0.019255606434190442,0.017024773981448867,0.01491135376306211,0.013032758013384995,0.012210872372901256,0.0106845133262886,0.009510390982740402,0.007514382998708466,0.006457672889515088,0.005518375014676529,0.0043442526711283316,0.004226840436773511,0.003757191499354233,0.003052718093225314,0.0028178936245156746,0.002230832452741576,0.0016437712809674767,0.0012915345779030175,0.0008218856404837384,0.00023482446870963955,0.00011741223435481978,0.00011741223435481978,0.0,0.0,0.0,0.0,0.0,0.0,0.0,0.0,0.0,0.0,0.0,0.0,0.0,0.0,0.0,0.0,0.0,0.0,0.0,0.0,0.0,0.0,0.0,0.0,0.0],\"yaxis\":\"y\",\"type\":\"scatter\"},{\"hovertemplate\":\"variable=precision<br>Cut-Off=%{x}<br>value=%{y}<extra></extra>\",\"legendgroup\":\"precision\",\"line\":{\"color\":\"#EF553B\",\"dash\":\"solid\"},\"marker\":{\"symbol\":\"circle\"},\"mode\":\"lines\",\"name\":\"precision\",\"orientation\":\"v\",\"showlegend\":true,\"x\":[0.0,0.01,0.02,0.03,0.04,0.05,0.06,0.07,0.08,0.09,0.1,0.11,0.12,0.13,0.14,0.15,0.16,0.17,0.18,0.19,0.2,0.21,0.22,0.23,0.24,0.25,0.26,0.27,0.28,0.29,0.3,0.31,0.32,0.33,0.34,0.35,0.36,0.37,0.38,0.39,0.4,0.41,0.42,0.43,0.44,0.45,0.46,0.47,0.48,0.49,0.5,0.51,0.52,0.53,0.54,0.55,0.56,0.57,0.58,0.59,0.6,0.61,0.62,0.63,0.64,0.65,0.66,0.67,0.68,0.69,0.7,0.71,0.72,0.73,0.74,0.75,0.76,0.77,0.78,0.79,0.8,0.81,0.82,0.83,0.84,0.85,0.86,0.87,0.88,0.89,0.9,0.91,0.92,0.93,0.94,0.95,0.96,0.97,0.98,0.99,1.0],\"xaxis\":\"x\",\"y\":[0.08558938800120591,0.08558938800120591,0.08592788393631832,0.09242204614563011,0.10722562966567217,0.12842345368475322,0.1537235696517413,0.18050033937748472,0.2038333185670831,0.22509974351667142,0.24530689727905505,0.2611424368717823,0.2774647887323944,0.2916962384669979,0.30731457050718264,0.3225058004640371,0.3356779268857011,0.34986539656243526,0.36243233905332256,0.37233496018494733,0.38334754191531684,0.3968877711411506,0.41117554032683185,0.4212567882079131,0.4311887515977844,0.43789771388168747,0.4488577362409138,0.4581422018348624,0.47044025157232705,0.4812889812889813,0.4945344892574444,0.5072583990045624,0.5215224286361577,0.5234567901234568,0.5329373650107991,0.5456688273423689,0.5594541910331384,0.5655270655270656,0.5743190661478599,0.5769896193771626,0.5828571428571429,0.5974710221285564,0.5962877030162413,0.6012987012987013,0.6131805157593123,0.625585023400936,0.636518771331058,0.6460674157303371,0.6577319587628866,0.6752941176470588,0.6728723404255319,0.6756756756756757,0.6870748299319728,0.7086614173228346,0.7192982456140351,0.7286432160804021,0.7470588235294118,0.7551020408163265,0.7878787878787878,0.7777777777777778,0.7788461538461539,0.7710843373493976,0.7534246575342466,0.7580645161290323,0.7254901960784313,0.75,0.7619047619047619,0.7647058823529411,0.8888888888888888,0.8636363636363636,0.8235294117647058,0.7857142857142857,0.7,0.6666666666666666,0.5,0.5,0.0,0.0,null,null,null,null,null,null,null,null,null,null,null,null,null,null,null,null,null,null,null,null,null,null,null],\"yaxis\":\"y\",\"type\":\"scatter\"}],                        {\"template\":{\"data\":{\"bar\":[{\"error_x\":{\"color\":\"#2a3f5f\"},\"error_y\":{\"color\":\"#2a3f5f\"},\"marker\":{\"line\":{\"color\":\"#E5ECF6\",\"width\":0.5},\"pattern\":{\"fillmode\":\"overlay\",\"size\":10,\"solidity\":0.2}},\"type\":\"bar\"}],\"barpolar\":[{\"marker\":{\"line\":{\"color\":\"#E5ECF6\",\"width\":0.5},\"pattern\":{\"fillmode\":\"overlay\",\"size\":10,\"solidity\":0.2}},\"type\":\"barpolar\"}],\"carpet\":[{\"aaxis\":{\"endlinecolor\":\"#2a3f5f\",\"gridcolor\":\"white\",\"linecolor\":\"white\",\"minorgridcolor\":\"white\",\"startlinecolor\":\"#2a3f5f\"},\"baxis\":{\"endlinecolor\":\"#2a3f5f\",\"gridcolor\":\"white\",\"linecolor\":\"white\",\"minorgridcolor\":\"white\",\"startlinecolor\":\"#2a3f5f\"},\"type\":\"carpet\"}],\"choropleth\":[{\"colorbar\":{\"outlinewidth\":0,\"ticks\":\"\"},\"type\":\"choropleth\"}],\"contour\":[{\"colorbar\":{\"outlinewidth\":0,\"ticks\":\"\"},\"colorscale\":[[0.0,\"#0d0887\"],[0.1111111111111111,\"#46039f\"],[0.2222222222222222,\"#7201a8\"],[0.3333333333333333,\"#9c179e\"],[0.4444444444444444,\"#bd3786\"],[0.5555555555555556,\"#d8576b\"],[0.6666666666666666,\"#ed7953\"],[0.7777777777777778,\"#fb9f3a\"],[0.8888888888888888,\"#fdca26\"],[1.0,\"#f0f921\"]],\"type\":\"contour\"}],\"contourcarpet\":[{\"colorbar\":{\"outlinewidth\":0,\"ticks\":\"\"},\"type\":\"contourcarpet\"}],\"heatmap\":[{\"colorbar\":{\"outlinewidth\":0,\"ticks\":\"\"},\"colorscale\":[[0.0,\"#0d0887\"],[0.1111111111111111,\"#46039f\"],[0.2222222222222222,\"#7201a8\"],[0.3333333333333333,\"#9c179e\"],[0.4444444444444444,\"#bd3786\"],[0.5555555555555556,\"#d8576b\"],[0.6666666666666666,\"#ed7953\"],[0.7777777777777778,\"#fb9f3a\"],[0.8888888888888888,\"#fdca26\"],[1.0,\"#f0f921\"]],\"type\":\"heatmap\"}],\"heatmapgl\":[{\"colorbar\":{\"outlinewidth\":0,\"ticks\":\"\"},\"colorscale\":[[0.0,\"#0d0887\"],[0.1111111111111111,\"#46039f\"],[0.2222222222222222,\"#7201a8\"],[0.3333333333333333,\"#9c179e\"],[0.4444444444444444,\"#bd3786\"],[0.5555555555555556,\"#d8576b\"],[0.6666666666666666,\"#ed7953\"],[0.7777777777777778,\"#fb9f3a\"],[0.8888888888888888,\"#fdca26\"],[1.0,\"#f0f921\"]],\"type\":\"heatmapgl\"}],\"histogram\":[{\"marker\":{\"pattern\":{\"fillmode\":\"overlay\",\"size\":10,\"solidity\":0.2}},\"type\":\"histogram\"}],\"histogram2d\":[{\"colorbar\":{\"outlinewidth\":0,\"ticks\":\"\"},\"colorscale\":[[0.0,\"#0d0887\"],[0.1111111111111111,\"#46039f\"],[0.2222222222222222,\"#7201a8\"],[0.3333333333333333,\"#9c179e\"],[0.4444444444444444,\"#bd3786\"],[0.5555555555555556,\"#d8576b\"],[0.6666666666666666,\"#ed7953\"],[0.7777777777777778,\"#fb9f3a\"],[0.8888888888888888,\"#fdca26\"],[1.0,\"#f0f921\"]],\"type\":\"histogram2d\"}],\"histogram2dcontour\":[{\"colorbar\":{\"outlinewidth\":0,\"ticks\":\"\"},\"colorscale\":[[0.0,\"#0d0887\"],[0.1111111111111111,\"#46039f\"],[0.2222222222222222,\"#7201a8\"],[0.3333333333333333,\"#9c179e\"],[0.4444444444444444,\"#bd3786\"],[0.5555555555555556,\"#d8576b\"],[0.6666666666666666,\"#ed7953\"],[0.7777777777777778,\"#fb9f3a\"],[0.8888888888888888,\"#fdca26\"],[1.0,\"#f0f921\"]],\"type\":\"histogram2dcontour\"}],\"mesh3d\":[{\"colorbar\":{\"outlinewidth\":0,\"ticks\":\"\"},\"type\":\"mesh3d\"}],\"parcoords\":[{\"line\":{\"colorbar\":{\"outlinewidth\":0,\"ticks\":\"\"}},\"type\":\"parcoords\"}],\"pie\":[{\"automargin\":true,\"type\":\"pie\"}],\"scatter\":[{\"marker\":{\"colorbar\":{\"outlinewidth\":0,\"ticks\":\"\"}},\"type\":\"scatter\"}],\"scatter3d\":[{\"line\":{\"colorbar\":{\"outlinewidth\":0,\"ticks\":\"\"}},\"marker\":{\"colorbar\":{\"outlinewidth\":0,\"ticks\":\"\"}},\"type\":\"scatter3d\"}],\"scattercarpet\":[{\"marker\":{\"colorbar\":{\"outlinewidth\":0,\"ticks\":\"\"}},\"type\":\"scattercarpet\"}],\"scattergeo\":[{\"marker\":{\"colorbar\":{\"outlinewidth\":0,\"ticks\":\"\"}},\"type\":\"scattergeo\"}],\"scattergl\":[{\"marker\":{\"colorbar\":{\"outlinewidth\":0,\"ticks\":\"\"}},\"type\":\"scattergl\"}],\"scattermapbox\":[{\"marker\":{\"colorbar\":{\"outlinewidth\":0,\"ticks\":\"\"}},\"type\":\"scattermapbox\"}],\"scatterpolar\":[{\"marker\":{\"colorbar\":{\"outlinewidth\":0,\"ticks\":\"\"}},\"type\":\"scatterpolar\"}],\"scatterpolargl\":[{\"marker\":{\"colorbar\":{\"outlinewidth\":0,\"ticks\":\"\"}},\"type\":\"scatterpolargl\"}],\"scatterternary\":[{\"marker\":{\"colorbar\":{\"outlinewidth\":0,\"ticks\":\"\"}},\"type\":\"scatterternary\"}],\"surface\":[{\"colorbar\":{\"outlinewidth\":0,\"ticks\":\"\"},\"colorscale\":[[0.0,\"#0d0887\"],[0.1111111111111111,\"#46039f\"],[0.2222222222222222,\"#7201a8\"],[0.3333333333333333,\"#9c179e\"],[0.4444444444444444,\"#bd3786\"],[0.5555555555555556,\"#d8576b\"],[0.6666666666666666,\"#ed7953\"],[0.7777777777777778,\"#fb9f3a\"],[0.8888888888888888,\"#fdca26\"],[1.0,\"#f0f921\"]],\"type\":\"surface\"}],\"table\":[{\"cells\":{\"fill\":{\"color\":\"#EBF0F8\"},\"line\":{\"color\":\"white\"}},\"header\":{\"fill\":{\"color\":\"#C8D4E3\"},\"line\":{\"color\":\"white\"}},\"type\":\"table\"}]},\"layout\":{\"annotationdefaults\":{\"arrowcolor\":\"#2a3f5f\",\"arrowhead\":0,\"arrowwidth\":1},\"autotypenumbers\":\"strict\",\"coloraxis\":{\"colorbar\":{\"outlinewidth\":0,\"ticks\":\"\"}},\"colorscale\":{\"diverging\":[[0,\"#8e0152\"],[0.1,\"#c51b7d\"],[0.2,\"#de77ae\"],[0.3,\"#f1b6da\"],[0.4,\"#fde0ef\"],[0.5,\"#f7f7f7\"],[0.6,\"#e6f5d0\"],[0.7,\"#b8e186\"],[0.8,\"#7fbc41\"],[0.9,\"#4d9221\"],[1,\"#276419\"]],\"sequential\":[[0.0,\"#0d0887\"],[0.1111111111111111,\"#46039f\"],[0.2222222222222222,\"#7201a8\"],[0.3333333333333333,\"#9c179e\"],[0.4444444444444444,\"#bd3786\"],[0.5555555555555556,\"#d8576b\"],[0.6666666666666666,\"#ed7953\"],[0.7777777777777778,\"#fb9f3a\"],[0.8888888888888888,\"#fdca26\"],[1.0,\"#f0f921\"]],\"sequentialminus\":[[0.0,\"#0d0887\"],[0.1111111111111111,\"#46039f\"],[0.2222222222222222,\"#7201a8\"],[0.3333333333333333,\"#9c179e\"],[0.4444444444444444,\"#bd3786\"],[0.5555555555555556,\"#d8576b\"],[0.6666666666666666,\"#ed7953\"],[0.7777777777777778,\"#fb9f3a\"],[0.8888888888888888,\"#fdca26\"],[1.0,\"#f0f921\"]]},\"colorway\":[\"#636efa\",\"#EF553B\",\"#00cc96\",\"#ab63fa\",\"#FFA15A\",\"#19d3f3\",\"#FF6692\",\"#B6E880\",\"#FF97FF\",\"#FECB52\"],\"font\":{\"color\":\"#2a3f5f\"},\"geo\":{\"bgcolor\":\"white\",\"lakecolor\":\"white\",\"landcolor\":\"#E5ECF6\",\"showlakes\":true,\"showland\":true,\"subunitcolor\":\"white\"},\"hoverlabel\":{\"align\":\"left\"},\"hovermode\":\"closest\",\"mapbox\":{\"style\":\"light\"},\"paper_bgcolor\":\"white\",\"plot_bgcolor\":\"#E5ECF6\",\"polar\":{\"angularaxis\":{\"gridcolor\":\"white\",\"linecolor\":\"white\",\"ticks\":\"\"},\"bgcolor\":\"#E5ECF6\",\"radialaxis\":{\"gridcolor\":\"white\",\"linecolor\":\"white\",\"ticks\":\"\"}},\"scene\":{\"xaxis\":{\"backgroundcolor\":\"#E5ECF6\",\"gridcolor\":\"white\",\"gridwidth\":2,\"linecolor\":\"white\",\"showbackground\":true,\"ticks\":\"\",\"zerolinecolor\":\"white\"},\"yaxis\":{\"backgroundcolor\":\"#E5ECF6\",\"gridcolor\":\"white\",\"gridwidth\":2,\"linecolor\":\"white\",\"showbackground\":true,\"ticks\":\"\",\"zerolinecolor\":\"white\"},\"zaxis\":{\"backgroundcolor\":\"#E5ECF6\",\"gridcolor\":\"white\",\"gridwidth\":2,\"linecolor\":\"white\",\"showbackground\":true,\"ticks\":\"\",\"zerolinecolor\":\"white\"}},\"shapedefaults\":{\"line\":{\"color\":\"#2a3f5f\"}},\"ternary\":{\"aaxis\":{\"gridcolor\":\"white\",\"linecolor\":\"white\",\"ticks\":\"\"},\"baxis\":{\"gridcolor\":\"white\",\"linecolor\":\"white\",\"ticks\":\"\"},\"bgcolor\":\"#E5ECF6\",\"caxis\":{\"gridcolor\":\"white\",\"linecolor\":\"white\",\"ticks\":\"\"}},\"title\":{\"x\":0.05},\"xaxis\":{\"automargin\":true,\"gridcolor\":\"white\",\"linecolor\":\"white\",\"ticks\":\"\",\"title\":{\"standoff\":15},\"zerolinecolor\":\"white\",\"zerolinewidth\":2},\"yaxis\":{\"automargin\":true,\"gridcolor\":\"white\",\"linecolor\":\"white\",\"ticks\":\"\",\"title\":{\"standoff\":15},\"zerolinecolor\":\"white\",\"zerolinewidth\":2}}},\"xaxis\":{\"anchor\":\"y\",\"domain\":[0.0,1.0],\"title\":{\"text\":\"Cut-Off\"}},\"yaxis\":{\"anchor\":\"x\",\"domain\":[0.0,1.0],\"title\":{\"text\":\"value\"}},\"legend\":{\"title\":{\"text\":\"variable\"},\"tracegroupgap\":0,\"orientation\":\"h\"},\"margin\":{\"t\":60},\"showlegend\":true,\"plot_bgcolor\":\"white\",\"autosize\":false,\"width\":600,\"height\":400},                        {\"responsive\": true}                    ).then(function(){\n",
              "                            \n",
              "var gd = document.getElementById('06d06c46-bad1-4362-8bab-fb40ebc9945b');\n",
              "var x = new MutationObserver(function (mutations, observer) {{\n",
              "        var display = window.getComputedStyle(gd).display;\n",
              "        if (!display || display === 'none') {{\n",
              "            console.log([gd, 'removed!']);\n",
              "            Plotly.purge(gd);\n",
              "            observer.disconnect();\n",
              "        }}\n",
              "}});\n",
              "\n",
              "// Listen for the removal of the full notebook cells\n",
              "var notebookContainer = gd.closest('#notebook-container');\n",
              "if (notebookContainer) {{\n",
              "    x.observe(notebookContainer, {childList: true});\n",
              "}}\n",
              "\n",
              "// Listen for the clearing of the current output cell\n",
              "var outputEl = gd.closest('.output');\n",
              "if (outputEl) {{\n",
              "    x.observe(outputEl, {childList: true});\n",
              "}}\n",
              "\n",
              "                        })                };                            </script>        </div>\n",
              "</body>\n",
              "</html>"
            ]
          },
          "metadata": {}
        }
      ]
    },
    {
      "cell_type": "markdown",
      "source": [
        "#### Saving Model Artifacts"
      ],
      "metadata": {
        "id": "Rs60sr8lVtvF"
      }
    },
    {
      "cell_type": "code",
      "source": [
        "# Saving Model threshold.\n",
        "with open(\"recall_pr_threshold.json\", \"w\") as outfile:\n",
        "    json.dump(recall_pr_dict, outfile)\n",
        "\n",
        "# Categorical Continous features stores to json\n",
        "# Using a thumb rule segregate the categorical and Continous Variables: Variables with two distinct values Categorical else Continous\n",
        "# This definition applies here but  has to be verified accross. \n",
        "exclude_cols= exc_cols_ + ['features']\n",
        "input_feat = [feature for feature in test_.columns if feature not in exclude_cols]\n",
        "\n",
        "cat_cols = [] ; cont_cols = [] ; \n",
        "for col in input_feat:\n",
        "  col_len = len(test_.select(col).distinct().collect())\n",
        "  if col_len > 2:\n",
        "    cont_cols.append(col)\n",
        "  if col_len <= 2:\n",
        "    cat_cols.append(col)\n",
        "\n",
        "# Saving Cateogrical and continous Variables Data types. \n",
        "col_dtypes_json = {'category_col': cat_cols ,\n",
        "                   'Cont_cols' : cont_cols }\n",
        "\n",
        "with open(\"feature_dtypes.json\", \"w\") as outfile:\n",
        "    json.dump(col_dtypes_json, outfile)"
      ],
      "metadata": {
        "id": "gbheKlruVyMo"
      },
      "execution_count": null,
      "outputs": []
    },
    {
      "cell_type": "markdown",
      "source": [
        "#### Packages and versions installed within the Python environment.\n",
        "(Just to be used for cross validation of versions)"
      ],
      "metadata": {
        "id": "mCjn6G7aWyKf"
      }
    },
    {
      "cell_type": "code",
      "source": [
        "!pip freeze"
      ],
      "metadata": {
        "colab": {
          "base_uri": "https://localhost:8080/"
        },
        "id": "PS2nbs4ZWI9C",
        "outputId": "4527b404-20ab-43ea-bfd7-729e1b8eb572"
      },
      "execution_count": null,
      "outputs": [
        {
          "output_type": "stream",
          "name": "stdout",
          "text": [
            "findspark==2.0.1\n",
            "json==2.0.9\n",
            "numpy==1.21.6\n",
            "pandas==1.3.5\n",
            "pyspark==3.0.0\n",
            "re==2.2.1\n",
            "absl-py==1.3.0\n",
            "aeppl==0.0.33\n",
            "aesara==2.7.9\n",
            "aiohttp==3.8.3\n",
            "aiosignal==1.3.1\n",
            "alabaster==0.7.12\n",
            "albumentations==1.2.1\n",
            "altair==4.2.0\n",
            "appdirs==1.4.4\n",
            "arviz==0.12.1\n",
            "astor==0.8.1\n",
            "astropy==4.3.1\n",
            "astunparse==1.6.3\n",
            "async-timeout==4.0.2\n",
            "asynctest==0.13.0\n",
            "atari-py==0.2.9\n",
            "atomicwrites==1.4.1\n",
            "attrs==22.1.0\n",
            "audioread==3.0.0\n",
            "autograd==1.5\n",
            "Babel==2.11.0\n",
            "backcall==0.2.0\n",
            "beautifulsoup4==4.6.3\n",
            "bleach==5.0.1\n",
            "blis==0.7.9\n",
            "bokeh==2.3.3\n",
            "branca==0.6.0\n",
            "bs4==0.0.1\n",
            "CacheControl==0.12.11\n",
            "cached-property==1.5.2\n",
            "cachetools==5.2.0\n",
            "catalogue==2.0.8\n",
            "certifi==2022.9.24\n",
            "cffi==1.15.1\n",
            "cftime==1.6.2\n",
            "chardet==3.0.4\n",
            "charset-normalizer==2.1.1\n",
            "click==7.1.2\n",
            "clikit==0.6.2\n",
            "cloudpickle==1.5.0\n",
            "cmake==3.22.6\n",
            "cmdstanpy==1.0.8\n",
            "colorcet==3.0.1\n",
            "colorlover==0.3.0\n",
            "community==1.0.0b1\n",
            "confection==0.0.3\n",
            "cons==0.4.5\n",
            "contextlib2==0.5.5\n",
            "convertdate==2.4.0\n",
            "crashtest==0.3.1\n",
            "crcmod==1.7\n",
            "cufflinks==0.17.3\n",
            "cvxopt==1.3.0\n",
            "cvxpy==1.2.2\n",
            "cycler==0.11.0\n",
            "cymem==2.0.7\n",
            "Cython==0.29.32\n",
            "daft==0.0.4\n",
            "dask==2022.2.0\n",
            "datascience==0.17.5\n",
            "datasets==2.6.1\n",
            "db-dtypes==1.0.4\n",
            "debugpy==1.0.0\n",
            "decorator==4.4.2\n",
            "defusedxml==0.7.1\n",
            "descartes==1.1.0\n",
            "dill==0.3.5.1\n",
            "distributed==2022.2.0\n",
            "dlib==19.24.0\n",
            "dm-tree==0.1.7\n",
            "dnspython==2.2.1\n",
            "docutils==0.17.1\n",
            "dopamine-rl==1.0.5\n",
            "earthengine-api==0.1.330\n",
            "easydict==1.10\n",
            "ecos==2.0.10\n",
            "editdistance==0.5.3\n",
            "en-core-web-sm @ https://github.com/explosion/spacy-models/releases/download/en_core_web_sm-3.4.1/en_core_web_sm-3.4.1-py3-none-any.whl\n",
            "entrypoints==0.4\n",
            "ephem==4.1.3\n",
            "et-xmlfile==1.1.0\n",
            "etils==0.9.0\n",
            "etuples==0.3.8\n",
            "fa2==0.3.5\n",
            "fastai==2.7.10\n",
            "fastcore==1.5.27\n",
            "fastdownload==0.0.7\n",
            "fastdtw==0.3.4\n",
            "fastjsonschema==2.16.2\n",
            "fastprogress==1.0.3\n",
            "fastrlock==0.8.1\n",
            "feather-format==0.4.1\n",
            "filelock==3.8.0\n",
            "findspark==2.0.1\n",
            "firebase-admin==5.3.0\n",
            "fix-yahoo-finance==0.0.22\n",
            "Flask==1.1.4\n",
            "flatbuffers==1.12\n",
            "folium==0.12.1.post1\n",
            "frozenlist==1.3.3\n",
            "fsspec==2022.10.0\n",
            "future==0.16.0\n",
            "gast==0.4.0\n",
            "GDAL==2.2.2\n",
            "gdown==4.4.0\n",
            "gensim==3.6.0\n",
            "geographiclib==1.52\n",
            "geopy==1.17.0\n",
            "gin-config==0.5.0\n",
            "glob2==0.7\n",
            "google==2.0.3\n",
            "google-api-core==2.8.2\n",
            "google-api-python-client==1.12.11\n",
            "google-auth==2.14.1\n",
            "google-auth-httplib2==0.0.4\n",
            "google-auth-oauthlib==0.4.6\n",
            "google-cloud-bigquery==3.3.6\n",
            "google-cloud-bigquery-storage==2.16.2\n",
            "google-cloud-core==2.3.2\n",
            "google-cloud-datastore==2.9.0\n",
            "google-cloud-firestore==2.7.2\n",
            "google-cloud-language==2.6.1\n",
            "google-cloud-storage==2.5.0\n",
            "google-cloud-translate==3.8.4\n",
            "google-colab @ file:///colabtools/dist/google-colab-1.0.0.tar.gz\n",
            "google-crc32c==1.5.0\n",
            "google-pasta==0.2.0\n",
            "google-resumable-media==2.4.0\n",
            "googleapis-common-protos==1.56.4\n",
            "googledrivedownloader==0.4\n",
            "graphviz==0.10.1\n",
            "greenlet==2.0.1\n",
            "grpcio==1.50.0\n",
            "grpcio-status==1.48.2\n",
            "gspread==3.4.2\n",
            "gspread-dataframe==3.0.8\n",
            "gym==0.25.2\n",
            "gym-notices==0.0.8\n",
            "h5py==3.1.0\n",
            "HeapDict==1.0.1\n",
            "hijri-converter==2.2.4\n",
            "holidays==0.16\n",
            "holoviews==1.14.9\n",
            "html5lib==1.0.1\n",
            "httpimport==0.5.18\n",
            "httplib2==0.17.4\n",
            "httpstan==4.6.1\n",
            "huggingface-hub==0.10.1\n",
            "humanize==0.5.1\n",
            "hyperopt==0.1.2\n",
            "idna==2.10\n",
            "imageio==2.9.0\n",
            "imagesize==1.4.1\n",
            "imbalanced-learn==0.8.1\n",
            "imblearn==0.0\n",
            "imgaug==0.4.0\n",
            "importlib-metadata==4.13.0\n",
            "importlib-resources==5.10.0\n",
            "imutils==0.5.4\n",
            "inflect==2.1.0\n",
            "intel-openmp==2022.2.1\n",
            "intervaltree==2.1.0\n",
            "ipykernel==5.3.4\n",
            "ipython==7.9.0\n",
            "ipython-genutils==0.2.0\n",
            "ipython-sql==0.3.9\n",
            "ipywidgets==7.7.1\n",
            "itsdangerous==1.1.0\n",
            "jax==0.3.23\n",
            "jaxlib @ https://storage.googleapis.com/jax-releases/cuda11/jaxlib-0.3.22+cuda11.cudnn805-cp37-cp37m-manylinux2014_x86_64.whl\n",
            "jieba==0.42.1\n",
            "Jinja2==2.11.3\n",
            "joblib==1.2.0\n",
            "jpeg4py==0.1.4\n",
            "jsonschema==4.3.3\n",
            "jupyter-client==6.1.12\n",
            "jupyter-console==6.1.0\n",
            "jupyter-core==4.11.2\n",
            "jupyterlab-widgets==3.0.3\n",
            "kaggle==1.5.12\n",
            "kapre==0.3.7\n",
            "keras==2.9.0\n",
            "Keras-Preprocessing==1.1.2\n",
            "keras-vis==0.4.1\n",
            "kiwisolver==1.4.4\n",
            "korean-lunar-calendar==0.3.1\n",
            "langcodes==3.3.0\n",
            "libclang==14.0.6\n",
            "librosa==0.8.1\n",
            "lightgbm==2.2.3\n",
            "llvmlite==0.39.1\n",
            "lmdb==0.99\n",
            "locket==1.0.0\n",
            "logical-unification==0.4.5\n",
            "LunarCalendar==0.0.9\n",
            "lxml==4.9.1\n",
            "Markdown==3.4.1\n",
            "MarkupSafe==2.0.1\n",
            "marshmallow==3.18.0\n",
            "matplotlib==3.2.2\n",
            "matplotlib-venn==0.11.7\n",
            "miniKanren==1.0.3\n",
            "missingno==0.5.1\n",
            "mistune==0.8.4\n",
            "mizani==0.7.3\n",
            "mkl==2019.0\n",
            "mlxtend==0.14.0\n",
            "more-itertools==9.0.0\n",
            "moviepy==0.2.3.5\n",
            "mpmath==1.2.1\n",
            "msgpack==1.0.4\n",
            "multidict==6.0.2\n",
            "multipledispatch==0.6.0\n",
            "multiprocess==0.70.13\n",
            "multitasking==0.0.11\n",
            "murmurhash==1.0.9\n",
            "music21==5.5.0\n",
            "natsort==5.5.0\n",
            "nbconvert==5.6.1\n",
            "nbformat==5.7.0\n",
            "netCDF4==1.6.1\n",
            "networkx==2.6.3\n",
            "nibabel==3.0.2\n",
            "nltk==3.7\n",
            "notebook==5.7.16\n",
            "numba==0.56.4\n",
            "numexpr==2.8.4\n",
            "numpy==1.21.6\n",
            "oauth2client==4.1.3\n",
            "oauthlib==3.2.2\n",
            "okgrade==0.4.3\n",
            "opencv-contrib-python==4.6.0.66\n",
            "opencv-python==4.6.0.66\n",
            "opencv-python-headless==4.6.0.66\n",
            "openpyxl==3.0.10\n",
            "opt-einsum==3.3.0\n",
            "osqp==0.6.2.post0\n",
            "packaging==21.3\n",
            "palettable==3.3.0\n",
            "pandas==1.3.5\n",
            "pandas-datareader==0.9.0\n",
            "pandas-gbq==0.17.9\n",
            "pandas-profiling==1.4.1\n",
            "pandocfilters==1.5.0\n",
            "panel==0.12.1\n",
            "param==1.12.2\n",
            "parso==0.8.3\n",
            "partd==1.3.0\n",
            "pastel==0.2.1\n",
            "pathlib==1.0.1\n",
            "pathy==0.6.2\n",
            "patsy==0.5.3\n",
            "pep517==0.13.0\n",
            "pexpect==4.8.0\n",
            "pickleshare==0.7.5\n",
            "Pillow==7.1.2\n",
            "pip-tools==6.2.0\n",
            "plotly==5.5.0\n",
            "plotnine==0.8.0\n",
            "pluggy==0.7.1\n",
            "pooch==1.6.0\n",
            "portpicker==1.3.9\n",
            "prefetch-generator==1.0.1\n",
            "preshed==3.0.8\n",
            "prettytable==3.5.0\n",
            "progressbar2==3.38.0\n",
            "prometheus-client==0.15.0\n",
            "promise==2.3\n",
            "prompt-toolkit==2.0.10\n",
            "prophet==1.1.1\n",
            "proto-plus==1.22.1\n",
            "protobuf==3.19.6\n",
            "psutil==5.4.8\n",
            "psycopg2==2.9.5\n",
            "ptyprocess==0.7.0\n",
            "py==1.11.0\n",
            "py4j==0.10.9\n",
            "pyarrow==6.0.1\n",
            "pyasn1==0.4.8\n",
            "pyasn1-modules==0.2.8\n",
            "pycocotools==2.0.6\n",
            "pycparser==2.21\n",
            "pyct==0.4.8\n",
            "pydantic==1.10.2\n",
            "pydata-google-auth==1.4.0\n",
            "pydot==1.3.0\n",
            "pydot-ng==2.0.0\n",
            "pydotplus==2.0.2\n",
            "PyDrive==1.3.1\n",
            "pyemd==0.5.1\n",
            "pyerfa==2.0.0.1\n",
            "Pygments==2.6.1\n",
            "pygobject==3.26.1\n",
            "pylev==1.4.0\n",
            "pymc==4.1.4\n",
            "PyMeeus==0.5.11\n",
            "pymongo==4.3.2\n",
            "pymystem3==0.2.0\n",
            "PyOpenGL==3.1.6\n",
            "pyparsing==3.0.9\n",
            "pyrsistent==0.19.2\n",
            "pysimdjson==3.2.0\n",
            "pysndfile==1.3.8\n",
            "PySocks==1.7.1\n",
            "pyspark==3.0.0\n",
            "pystan==3.3.0\n",
            "pytest==3.6.4\n",
            "python-apt==0.0.0\n",
            "python-dateutil==2.8.2\n",
            "python-louvain==0.16\n",
            "python-slugify==6.1.2\n",
            "python-utils==3.4.5\n",
            "pytz==2022.6\n",
            "pyviz-comms==2.2.1\n",
            "PyWavelets==1.3.0\n",
            "PyYAML==6.0\n",
            "pyzmq==23.2.1\n",
            "qdldl==0.1.5.post2\n",
            "qudida==0.0.4\n",
            "regex==2022.6.2\n",
            "requests==2.23.0\n",
            "requests-oauthlib==1.3.1\n",
            "resampy==0.4.2\n",
            "responses==0.18.0\n",
            "rpy2==3.5.5\n",
            "rsa==4.9\n",
            "scikit-image==0.18.3\n",
            "scikit-learn==1.0.2\n",
            "scipy==1.7.3\n",
            "screen-resolution-extra==0.0.0\n",
            "scs==3.2.2\n",
            "seaborn==0.11.2\n",
            "Send2Trash==1.8.0\n",
            "setuptools-git==1.2\n",
            "Shapely==1.8.5.post1\n",
            "six==1.15.0\n",
            "sklearn-pandas==1.8.0\n",
            "smart-open==5.2.1\n",
            "snowballstemmer==2.2.0\n",
            "sortedcontainers==2.4.0\n",
            "soundfile==0.11.0\n",
            "spacy==3.4.2\n",
            "spacy-legacy==3.0.10\n",
            "spacy-loggers==1.0.3\n",
            "Sphinx==1.8.6\n",
            "sphinxcontrib-serializinghtml==1.1.5\n",
            "sphinxcontrib-websupport==1.2.4\n",
            "SQLAlchemy==1.4.43\n",
            "sqlparse==0.4.3\n",
            "srsly==2.4.5\n",
            "statsmodels==0.12.2\n",
            "sympy==1.7.1\n",
            "tables==3.7.0\n",
            "tabulate==0.8.10\n",
            "tblib==1.7.0\n",
            "tenacity==8.1.0\n",
            "tensorboard==2.9.1\n",
            "tensorboard-data-server==0.6.1\n",
            "tensorboard-plugin-wit==1.8.1\n",
            "tensorflow==2.9.2\n",
            "tensorflow-datasets==4.6.0\n",
            "tensorflow-estimator==2.9.0\n",
            "tensorflow-gcs-config==2.9.1\n",
            "tensorflow-hub==0.12.0\n",
            "tensorflow-io-gcs-filesystem==0.27.0\n",
            "tensorflow-metadata==1.10.0\n",
            "tensorflow-probability==0.17.0\n",
            "termcolor==2.1.0\n",
            "terminado==0.13.3\n",
            "testpath==0.6.0\n",
            "text-unidecode==1.3\n",
            "textblob==0.15.3\n",
            "thinc==8.1.5\n",
            "threadpoolctl==3.1.0\n",
            "tifffile==2021.11.2\n",
            "toml==0.10.2\n",
            "tomli==2.0.1\n",
            "toolz==0.12.0\n",
            "torch @ https://download.pytorch.org/whl/cu113/torch-1.12.1%2Bcu113-cp37-cp37m-linux_x86_64.whl\n",
            "torchaudio @ https://download.pytorch.org/whl/cu113/torchaudio-0.12.1%2Bcu113-cp37-cp37m-linux_x86_64.whl\n",
            "torchsummary==1.5.1\n",
            "torchtext==0.13.1\n",
            "torchvision @ https://download.pytorch.org/whl/cu113/torchvision-0.13.1%2Bcu113-cp37-cp37m-linux_x86_64.whl\n",
            "tornado==6.0.4\n",
            "tqdm==4.64.1\n",
            "traitlets==5.1.1\n",
            "tweepy==3.10.0\n",
            "typeguard==2.7.1\n",
            "typer==0.4.2\n",
            "typing-extensions==4.1.1\n",
            "tzlocal==1.5.1\n",
            "uritemplate==3.0.1\n",
            "urllib3==1.25.11\n",
            "vega-datasets==0.9.0\n",
            "wasabi==0.10.1\n",
            "wcwidth==0.2.5\n",
            "webargs==8.2.0\n",
            "webencodings==0.5.1\n",
            "Werkzeug==1.0.1\n",
            "widgetsnbextension==3.6.1\n",
            "wordcloud==1.8.2.2\n",
            "wrapt==1.14.1\n",
            "xarray==0.20.2\n",
            "xarray-einstats==0.2.2\n",
            "xgboost==0.90\n",
            "xkit==0.0.0\n",
            "xlrd==1.1.0\n",
            "xlwt==1.3.0\n",
            "xxhash==3.1.0\n",
            "yarl==1.8.1\n",
            "yellowbrick==1.5\n",
            "zict==2.2.0\n",
            "zipp==3.10.0\n"
          ]
        }
      ]
    }
  ],
  "metadata": {
    "colab": {
      "machine_shape": "hm",
      "provenance": []
    },
    "gpuClass": "standard",
    "kernelspec": {
      "display_name": "Python 3",
      "name": "python3"
    },
    "language_info": {
      "name": "python"
    }
  },
  "nbformat": 4,
  "nbformat_minor": 0
}
